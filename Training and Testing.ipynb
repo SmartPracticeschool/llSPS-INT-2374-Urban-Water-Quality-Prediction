{
 "cells": [
  {
   "cell_type": "code",
   "execution_count": 1,
   "metadata": {},
   "outputs": [
    {
     "data": {
      "text/plain": [
       "'C:\\\\Users\\\\Admin\\\\Desktop\\\\Internship\\\\Data Sets'"
      ]
     },
     "execution_count": 1,
     "metadata": {},
     "output_type": "execute_result"
    }
   ],
   "source": [
    "import os\n",
    "os.chdir(\"C:/Users/Admin/Desktop/Internship/Data Sets\")\n",
    "os.getcwd()"
   ]
  },
  {
   "cell_type": "markdown",
   "metadata": {},
   "source": [
    "# IMPORTING DATA SET"
   ]
  },
  {
   "cell_type": "code",
   "execution_count": 2,
   "metadata": {},
   "outputs": [],
   "source": [
    "import numpy as np\n",
    "import pandas as pd\n",
    "import matplotlib.pyplot as plt\n",
    "data=pd.read_csv('Water.csv',encoding='ISO-8859-1',low_memory=False)"
   ]
  },
  {
   "cell_type": "code",
   "execution_count": 3,
   "metadata": {},
   "outputs": [
    {
     "data": {
      "text/html": [
       "<div>\n",
       "<style scoped>\n",
       "    .dataframe tbody tr th:only-of-type {\n",
       "        vertical-align: middle;\n",
       "    }\n",
       "\n",
       "    .dataframe tbody tr th {\n",
       "        vertical-align: top;\n",
       "    }\n",
       "\n",
       "    .dataframe thead th {\n",
       "        text-align: right;\n",
       "    }\n",
       "</style>\n",
       "<table border=\"1\" class=\"dataframe\">\n",
       "  <thead>\n",
       "    <tr style=\"text-align: right;\">\n",
       "      <th></th>\n",
       "      <th>STATION CODE</th>\n",
       "      <th>LOCATIONS</th>\n",
       "      <th>STATE</th>\n",
       "      <th>Temp</th>\n",
       "      <th>D.O. (mg/l)</th>\n",
       "      <th>CONDUCTIVITY (µmhos/cm)</th>\n",
       "      <th>B.O.D. (mg/l)</th>\n",
       "      <th>NITRATENAN N+ NITRITENANN (mg/l)</th>\n",
       "      <th>FECAL COLIFORM (MPN/100ml)</th>\n",
       "      <th>TOTAL COLIFORM (MPN/100ml)Mean</th>\n",
       "      <th>year</th>\n",
       "      <th>PH</th>\n",
       "    </tr>\n",
       "  </thead>\n",
       "  <tbody>\n",
       "    <tr>\n",
       "      <th>0</th>\n",
       "      <td>1393.0</td>\n",
       "      <td>DAMANGANGA AT D/S OF MADHUBAN, DAMAN</td>\n",
       "      <td>DAMAN &amp; DIU</td>\n",
       "      <td>30.6</td>\n",
       "      <td>6.7</td>\n",
       "      <td>203.0</td>\n",
       "      <td>NaN</td>\n",
       "      <td>0.1</td>\n",
       "      <td>11</td>\n",
       "      <td>27</td>\n",
       "      <td>2014</td>\n",
       "      <td>7.5</td>\n",
       "    </tr>\n",
       "    <tr>\n",
       "      <th>1</th>\n",
       "      <td>1399.0</td>\n",
       "      <td>ZUARI AT D/S OF PT. WHERE KUMBARJRIA CANAL JOI...</td>\n",
       "      <td>GOA</td>\n",
       "      <td>29.8</td>\n",
       "      <td>5.7</td>\n",
       "      <td>189.0</td>\n",
       "      <td>2</td>\n",
       "      <td>0.2</td>\n",
       "      <td>4953</td>\n",
       "      <td>8391</td>\n",
       "      <td>2014</td>\n",
       "      <td>7.2</td>\n",
       "    </tr>\n",
       "    <tr>\n",
       "      <th>2</th>\n",
       "      <td>1475.0</td>\n",
       "      <td>ZUARI AT PANCHAWADI</td>\n",
       "      <td>GOA</td>\n",
       "      <td>29.5</td>\n",
       "      <td>6.3</td>\n",
       "      <td>179.0</td>\n",
       "      <td>1.7</td>\n",
       "      <td>0.1</td>\n",
       "      <td>3243</td>\n",
       "      <td>5330</td>\n",
       "      <td>2014</td>\n",
       "      <td>6.9</td>\n",
       "    </tr>\n",
       "    <tr>\n",
       "      <th>3</th>\n",
       "      <td>3181.0</td>\n",
       "      <td>RIVER ZUARI AT BORIM BRIDGE</td>\n",
       "      <td>GOA</td>\n",
       "      <td>29.7</td>\n",
       "      <td>5.8</td>\n",
       "      <td>64.0</td>\n",
       "      <td>3.8</td>\n",
       "      <td>0.5</td>\n",
       "      <td>5382</td>\n",
       "      <td>8443</td>\n",
       "      <td>2014</td>\n",
       "      <td>6.9</td>\n",
       "    </tr>\n",
       "    <tr>\n",
       "      <th>4</th>\n",
       "      <td>3182.0</td>\n",
       "      <td>RIVER ZUARI AT MARCAIM JETTY</td>\n",
       "      <td>GOA</td>\n",
       "      <td>29.5</td>\n",
       "      <td>5.8</td>\n",
       "      <td>83.0</td>\n",
       "      <td>1.9</td>\n",
       "      <td>0.4</td>\n",
       "      <td>3428</td>\n",
       "      <td>5500</td>\n",
       "      <td>2014</td>\n",
       "      <td>7.3</td>\n",
       "    </tr>\n",
       "    <tr>\n",
       "      <th>...</th>\n",
       "      <td>...</td>\n",
       "      <td>...</td>\n",
       "      <td>...</td>\n",
       "      <td>...</td>\n",
       "      <td>...</td>\n",
       "      <td>...</td>\n",
       "      <td>...</td>\n",
       "      <td>...</td>\n",
       "      <td>...</td>\n",
       "      <td>...</td>\n",
       "      <td>...</td>\n",
       "      <td>...</td>\n",
       "    </tr>\n",
       "    <tr>\n",
       "      <th>1986</th>\n",
       "      <td>1330.0</td>\n",
       "      <td>TAMBIRAPARANI AT ARUMUGANERI, TAMILNADU</td>\n",
       "      <td>NaN</td>\n",
       "      <td>NaN</td>\n",
       "      <td>7.9</td>\n",
       "      <td>7.2</td>\n",
       "      <td>2.7</td>\n",
       "      <td>0.518</td>\n",
       "      <td>0.518</td>\n",
       "      <td>202</td>\n",
       "      <td>2003</td>\n",
       "      <td>738.0</td>\n",
       "    </tr>\n",
       "    <tr>\n",
       "      <th>1987</th>\n",
       "      <td>1450.0</td>\n",
       "      <td>PALAR AT VANIYAMBADI WATER SUPPLY HEAD WORK, T...</td>\n",
       "      <td>NaN</td>\n",
       "      <td>29</td>\n",
       "      <td>7.5</td>\n",
       "      <td>6.3</td>\n",
       "      <td>2.6</td>\n",
       "      <td>0.155</td>\n",
       "      <td>0.155</td>\n",
       "      <td>315</td>\n",
       "      <td>2003</td>\n",
       "      <td>585.0</td>\n",
       "    </tr>\n",
       "    <tr>\n",
       "      <th>1988</th>\n",
       "      <td>1403.0</td>\n",
       "      <td>GUMTI AT U/S SOUTH TRIPURA,TRIPURA</td>\n",
       "      <td>NaN</td>\n",
       "      <td>28</td>\n",
       "      <td>7.6</td>\n",
       "      <td>6.2</td>\n",
       "      <td>1.2</td>\n",
       "      <td>NaN</td>\n",
       "      <td>NaN</td>\n",
       "      <td>570</td>\n",
       "      <td>2003</td>\n",
       "      <td>98.0</td>\n",
       "    </tr>\n",
       "    <tr>\n",
       "      <th>1989</th>\n",
       "      <td>1404.0</td>\n",
       "      <td>GUMTI AT D/S SOUTH TRIPURA, TRIPURA</td>\n",
       "      <td>NaN</td>\n",
       "      <td>28</td>\n",
       "      <td>7.7</td>\n",
       "      <td>6.5</td>\n",
       "      <td>1.3</td>\n",
       "      <td>NaN</td>\n",
       "      <td>NaN</td>\n",
       "      <td>562</td>\n",
       "      <td>2003</td>\n",
       "      <td>91.0</td>\n",
       "    </tr>\n",
       "    <tr>\n",
       "      <th>1990</th>\n",
       "      <td>1726.0</td>\n",
       "      <td>CHANDRAPUR, AGARTALA D/S OF HAORA RIVER, TRIPURA</td>\n",
       "      <td>NaN</td>\n",
       "      <td>29</td>\n",
       "      <td>7.6</td>\n",
       "      <td>5.7</td>\n",
       "      <td>1.1</td>\n",
       "      <td>NaN</td>\n",
       "      <td>NaN</td>\n",
       "      <td>546</td>\n",
       "      <td>2003</td>\n",
       "      <td>110.0</td>\n",
       "    </tr>\n",
       "  </tbody>\n",
       "</table>\n",
       "<p>1991 rows × 12 columns</p>\n",
       "</div>"
      ],
      "text/plain": [
       "      STATION CODE                                          LOCATIONS  \\\n",
       "0           1393.0               DAMANGANGA AT D/S OF MADHUBAN, DAMAN   \n",
       "1           1399.0  ZUARI AT D/S OF PT. WHERE KUMBARJRIA CANAL JOI...   \n",
       "2           1475.0                                ZUARI AT PANCHAWADI   \n",
       "3           3181.0                        RIVER ZUARI AT BORIM BRIDGE   \n",
       "4           3182.0                       RIVER ZUARI AT MARCAIM JETTY   \n",
       "...            ...                                                ...   \n",
       "1986        1330.0            TAMBIRAPARANI AT ARUMUGANERI, TAMILNADU   \n",
       "1987        1450.0  PALAR AT VANIYAMBADI WATER SUPPLY HEAD WORK, T...   \n",
       "1988        1403.0                 GUMTI AT U/S SOUTH TRIPURA,TRIPURA   \n",
       "1989        1404.0                GUMTI AT D/S SOUTH TRIPURA, TRIPURA   \n",
       "1990        1726.0   CHANDRAPUR, AGARTALA D/S OF HAORA RIVER, TRIPURA   \n",
       "\n",
       "            STATE  Temp  D.O. (mg/l)  CONDUCTIVITY (µmhos/cm) B.O.D. (mg/l)  \\\n",
       "0     DAMAN & DIU  30.6          6.7                    203.0           NaN   \n",
       "1             GOA  29.8          5.7                    189.0             2   \n",
       "2             GOA  29.5          6.3                    179.0           1.7   \n",
       "3             GOA  29.7          5.8                     64.0           3.8   \n",
       "4             GOA  29.5          5.8                     83.0           1.9   \n",
       "...           ...   ...          ...                      ...           ...   \n",
       "1986          NaN   NaN          7.9                      7.2           2.7   \n",
       "1987          NaN    29          7.5                      6.3           2.6   \n",
       "1988          NaN    28          7.6                      6.2           1.2   \n",
       "1989          NaN    28          7.7                      6.5           1.3   \n",
       "1990          NaN    29          7.6                      5.7           1.1   \n",
       "\n",
       "     NITRATENAN N+ NITRITENANN (mg/l) FECAL COLIFORM (MPN/100ml)  \\\n",
       "0                                 0.1                         11   \n",
       "1                                 0.2                       4953   \n",
       "2                                 0.1                       3243   \n",
       "3                                 0.5                       5382   \n",
       "4                                 0.4                       3428   \n",
       "...                               ...                        ...   \n",
       "1986                            0.518                      0.518   \n",
       "1987                            0.155                      0.155   \n",
       "1988                              NaN                        NaN   \n",
       "1989                              NaN                        NaN   \n",
       "1990                              NaN                        NaN   \n",
       "\n",
       "     TOTAL COLIFORM (MPN/100ml)Mean  year     PH  \n",
       "0                                27  2014    7.5  \n",
       "1                              8391  2014    7.2  \n",
       "2                              5330  2014    6.9  \n",
       "3                              8443  2014    6.9  \n",
       "4                              5500  2014    7.3  \n",
       "...                             ...   ...    ...  \n",
       "1986                            202  2003  738.0  \n",
       "1987                            315  2003  585.0  \n",
       "1988                            570  2003   98.0  \n",
       "1989                            562  2003   91.0  \n",
       "1990                            546  2003  110.0  \n",
       "\n",
       "[1991 rows x 12 columns]"
      ]
     },
     "execution_count": 3,
     "metadata": {},
     "output_type": "execute_result"
    }
   ],
   "source": [
    "data"
   ]
  },
  {
   "cell_type": "code",
   "execution_count": 4,
   "metadata": {},
   "outputs": [
    {
     "name": "stdout",
     "output_type": "stream",
     "text": [
      "<class 'pandas.core.frame.DataFrame'>\n",
      "RangeIndex: 1991 entries, 0 to 1990\n",
      "Data columns (total 12 columns):\n",
      " #   Column                            Non-Null Count  Dtype  \n",
      "---  ------                            --------------  -----  \n",
      " 0   STATION CODE                      1869 non-null   float64\n",
      " 1   LOCATIONS                         1807 non-null   object \n",
      " 2   STATE                             1230 non-null   object \n",
      " 3   Temp                              1903 non-null   object \n",
      " 4   D.O. (mg/l)                       1960 non-null   float64\n",
      " 5   CONDUCTIVITY (µmhos/cm)           1966 non-null   float64\n",
      " 6   B.O.D. (mg/l)                     1951 non-null   object \n",
      " 7   NITRATENAN N+ NITRITENANN (mg/l)  1771 non-null   object \n",
      " 8   FECAL COLIFORM (MPN/100ml)        1688 non-null   object \n",
      " 9   TOTAL COLIFORM (MPN/100ml)Mean    1870 non-null   object \n",
      " 10  year                              1991 non-null   int64  \n",
      " 11  PH                                1983 non-null   float64\n",
      "dtypes: float64(4), int64(1), object(7)\n",
      "memory usage: 186.8+ KB\n"
     ]
    }
   ],
   "source": [
    "data.info()"
   ]
  },
  {
   "cell_type": "markdown",
   "metadata": {},
   "source": [
    "# Finding And Replacing Missing Values"
   ]
  },
  {
   "cell_type": "code",
   "execution_count": 5,
   "metadata": {},
   "outputs": [
    {
     "data": {
      "text/plain": [
       "STATION CODE                         True\n",
       "LOCATIONS                            True\n",
       "STATE                                True\n",
       "Temp                                 True\n",
       "D.O. (mg/l)                          True\n",
       "CONDUCTIVITY (µmhos/cm)              True\n",
       "B.O.D. (mg/l)                        True\n",
       "NITRATENAN N+ NITRITENANN (mg/l)     True\n",
       "FECAL COLIFORM (MPN/100ml)           True\n",
       "TOTAL COLIFORM (MPN/100ml)Mean       True\n",
       "year                                False\n",
       "PH                                   True\n",
       "dtype: bool"
      ]
     },
     "execution_count": 5,
     "metadata": {},
     "output_type": "execute_result"
    }
   ],
   "source": [
    "data.isnull().any() #No Missing Values"
   ]
  },
  {
   "cell_type": "code",
   "execution_count": 6,
   "metadata": {},
   "outputs": [
    {
     "data": {
      "text/plain": [
       "STATION CODE                        122\n",
       "LOCATIONS                           184\n",
       "STATE                               761\n",
       "Temp                                 88\n",
       "D.O. (mg/l)                          31\n",
       "CONDUCTIVITY (µmhos/cm)              25\n",
       "B.O.D. (mg/l)                        40\n",
       "NITRATENAN N+ NITRITENANN (mg/l)    220\n",
       "FECAL COLIFORM (MPN/100ml)          303\n",
       "TOTAL COLIFORM (MPN/100ml)Mean      121\n",
       "year                                  0\n",
       "PH                                    8\n",
       "dtype: int64"
      ]
     },
     "execution_count": 6,
     "metadata": {},
     "output_type": "execute_result"
    }
   ],
   "source": [
    "#Get a count of missing values in the dataset\n",
    "data.apply(lambda x: sum(x.isnull()),axis=0)"
   ]
  },
  {
   "cell_type": "code",
   "execution_count": 7,
   "metadata": {},
   "outputs": [],
   "source": [
    "data['STATION CODE'].fillna(data['STATION CODE'].mean(),inplace=True)"
   ]
  },
  {
   "cell_type": "code",
   "execution_count": 8,
   "metadata": {},
   "outputs": [],
   "source": [
    "data['PH'].fillna(data['PH'].mean(),inplace=True)"
   ]
  },
  {
   "cell_type": "code",
   "execution_count": 9,
   "metadata": {},
   "outputs": [],
   "source": [
    "data['CONDUCTIVITY (µmhos/cm)'].fillna(data['CONDUCTIVITY (µmhos/cm)'].mean(),inplace=True)"
   ]
  },
  {
   "cell_type": "code",
   "execution_count": 10,
   "metadata": {},
   "outputs": [],
   "source": [
    "data['D.O. (mg/l)'].fillna(data['D.O. (mg/l)'].mean(),inplace=True)"
   ]
  },
  {
   "cell_type": "code",
   "execution_count": 11,
   "metadata": {},
   "outputs": [
    {
     "data": {
      "text/plain": [
       "STATION CODE                          0\n",
       "LOCATIONS                           184\n",
       "STATE                               761\n",
       "Temp                                 88\n",
       "D.O. (mg/l)                           0\n",
       "CONDUCTIVITY (µmhos/cm)               0\n",
       "B.O.D. (mg/l)                        40\n",
       "NITRATENAN N+ NITRITENANN (mg/l)    220\n",
       "FECAL COLIFORM (MPN/100ml)          303\n",
       "TOTAL COLIFORM (MPN/100ml)Mean      121\n",
       "year                                  0\n",
       "PH                                    0\n",
       "dtype: int64"
      ]
     },
     "execution_count": 11,
     "metadata": {},
     "output_type": "execute_result"
    }
   ],
   "source": [
    "data.apply(lambda x: sum(x.isnull()),axis=0)"
   ]
  },
  {
   "cell_type": "code",
   "execution_count": 12,
   "metadata": {},
   "outputs": [
    {
     "data": {
      "text/plain": [
       "0    1.5\n",
       "dtype: object"
      ]
     },
     "execution_count": 12,
     "metadata": {},
     "output_type": "execute_result"
    }
   ],
   "source": [
    "data['B.O.D. (mg/l)'].mode()"
   ]
  },
  {
   "cell_type": "code",
   "execution_count": 13,
   "metadata": {},
   "outputs": [
    {
     "data": {
      "text/plain": [
       "0.1      77\n",
       "0.4      55\n",
       "1        51\n",
       "0.2      50\n",
       "0.3      44\n",
       "         ..\n",
       "0.512     1\n",
       "0.202     1\n",
       "2.188     1\n",
       "16.61     1\n",
       "2.83      1\n",
       "Name: NITRATENAN N+ NITRITENANN (mg/l), Length: 506, dtype: int64"
      ]
     },
     "execution_count": 13,
     "metadata": {},
     "output_type": "execute_result"
    }
   ],
   "source": [
    "data['NITRATENAN N+ NITRITENANN (mg/l)'].value_counts()"
   ]
  },
  {
   "cell_type": "code",
   "execution_count": 14,
   "metadata": {},
   "outputs": [
    {
     "data": {
      "text/plain": [
       "4        46\n",
       "3        29\n",
       "8        19\n",
       "12       18\n",
       "13       17\n",
       "         ..\n",
       "1618      1\n",
       "222.5     1\n",
       "449       1\n",
       "30790     1\n",
       "1035      1\n",
       "Name: FECAL COLIFORM (MPN/100ml), Length: 869, dtype: int64"
      ]
     },
     "execution_count": 14,
     "metadata": {},
     "output_type": "execute_result"
    }
   ],
   "source": [
    "data['FECAL COLIFORM (MPN/100ml)'].value_counts()"
   ]
  },
  {
   "cell_type": "code",
   "execution_count": 15,
   "metadata": {},
   "outputs": [
    {
     "data": {
      "text/plain": [
       "10        14\n",
       "33        12\n",
       "45        12\n",
       "          11\n",
       "63        11\n",
       "          ..\n",
       "106333     1\n",
       "78750      1\n",
       "76667      1\n",
       "905        1\n",
       "728        1\n",
       "Name: TOTAL COLIFORM (MPN/100ml)Mean, Length: 1094, dtype: int64"
      ]
     },
     "execution_count": 15,
     "metadata": {},
     "output_type": "execute_result"
    }
   ],
   "source": [
    "data['TOTAL COLIFORM (MPN/100ml)Mean'].value_counts()"
   ]
  },
  {
   "cell_type": "code",
   "execution_count": 16,
   "metadata": {},
   "outputs": [
    {
     "data": {
      "text/plain": [
       "28        241\n",
       "29        163\n",
       "27        161\n",
       "26        102\n",
       "30         79\n",
       "         ... \n",
       "30.9        1\n",
       "21.7        1\n",
       "17.8        1\n",
       "24.9        1\n",
       "19.333      1\n",
       "Name: Temp, Length: 178, dtype: int64"
      ]
     },
     "execution_count": 16,
     "metadata": {},
     "output_type": "execute_result"
    }
   ],
   "source": [
    "data['Temp'].value_counts()"
   ]
  },
  {
   "cell_type": "code",
   "execution_count": 17,
   "metadata": {},
   "outputs": [
    {
     "data": {
      "text/plain": [
       "STATION CODE                        False\n",
       "LOCATIONS                            True\n",
       "STATE                                True\n",
       "Temp                                 True\n",
       "D.O. (mg/l)                         False\n",
       "CONDUCTIVITY (µmhos/cm)             False\n",
       "B.O.D. (mg/l)                        True\n",
       "NITRATENAN N+ NITRITENANN (mg/l)     True\n",
       "FECAL COLIFORM (MPN/100ml)           True\n",
       "TOTAL COLIFORM (MPN/100ml)Mean       True\n",
       "year                                False\n",
       "PH                                  False\n",
       "dtype: bool"
      ]
     },
     "execution_count": 17,
     "metadata": {},
     "output_type": "execute_result"
    }
   ],
   "source": [
    "data.isnull().any()"
   ]
  },
  {
   "cell_type": "code",
   "execution_count": 18,
   "metadata": {},
   "outputs": [],
   "source": [
    "x=['LOCATIONS','STATE']\n",
    "data[x]=data[x].fillna(data.mode().iloc[0])"
   ]
  },
  {
   "cell_type": "code",
   "execution_count": 19,
   "metadata": {},
   "outputs": [
    {
     "data": {
      "text/plain": [
       "STATION CODE                          0\n",
       "LOCATIONS                             0\n",
       "STATE                                 0\n",
       "Temp                                 88\n",
       "D.O. (mg/l)                           0\n",
       "CONDUCTIVITY (µmhos/cm)               0\n",
       "B.O.D. (mg/l)                        40\n",
       "NITRATENAN N+ NITRITENANN (mg/l)    220\n",
       "FECAL COLIFORM (MPN/100ml)          303\n",
       "TOTAL COLIFORM (MPN/100ml)Mean      121\n",
       "year                                  0\n",
       "PH                                    0\n",
       "dtype: int64"
      ]
     },
     "execution_count": 19,
     "metadata": {},
     "output_type": "execute_result"
    }
   ],
   "source": [
    "data.isnull().sum()"
   ]
  },
  {
   "cell_type": "markdown",
   "metadata": {},
   "source": [
    "# Data Visualization"
   ]
  },
  {
   "cell_type": "code",
   "execution_count": 20,
   "metadata": {},
   "outputs": [
    {
     "data": {
      "text/plain": [
       "<matplotlib.axes._subplots.AxesSubplot at 0x1c2e4eca5c8>"
      ]
     },
     "execution_count": 20,
     "metadata": {},
     "output_type": "execute_result"
    },
    {
     "data": {
      "image/png": "[encoded data removed]",
      "text/plain": [
       "<Figure size 432x288 with 1 Axes>"
      ]
     },
     "metadata": {
      "needs_background": "light"
     },
     "output_type": "display_data"
    }
   ],
   "source": [
    "#Data Visualization\n",
    "data.boxplot(column='year')"
   ]
  },
  {
   "cell_type": "code",
   "execution_count": 21,
   "metadata": {},
   "outputs": [
    {
     "data": {
      "text/plain": [
       "array([[<matplotlib.axes._subplots.AxesSubplot object at 0x000001C2E4F91408>,\n",
       "        <matplotlib.axes._subplots.AxesSubplot object at 0x000001C2E4FE0808>,\n",
       "        <matplotlib.axes._subplots.AxesSubplot object at 0x000001C2E50196C8>,\n",
       "        <matplotlib.axes._subplots.AxesSubplot object at 0x000001C2E50517C8>,\n",
       "        <matplotlib.axes._subplots.AxesSubplot object at 0x000001C2E508A908>,\n",
       "        <matplotlib.axes._subplots.AxesSubplot object at 0x000001C2E50C3A08>,\n",
       "        <matplotlib.axes._subplots.AxesSubplot object at 0x000001C2E50FCA88>,\n",
       "        <matplotlib.axes._subplots.AxesSubplot object at 0x000001C2E5135BC8>,\n",
       "        <matplotlib.axes._subplots.AxesSubplot object at 0x000001C2E51407C8>,\n",
       "        <matplotlib.axes._subplots.AxesSubplot object at 0x000001C2E5177988>,\n",
       "        <matplotlib.axes._subplots.AxesSubplot object at 0x000001C2E51DEF08>,\n",
       "        <matplotlib.axes._subplots.AxesSubplot object at 0x000001C2E5217F88>,\n",
       "        <matplotlib.axes._subplots.AxesSubplot object at 0x000001C2E52540C8>],\n",
       "       [<matplotlib.axes._subplots.AxesSubplot object at 0x000001C2E528B208>,\n",
       "        <matplotlib.axes._subplots.AxesSubplot object at 0x000001C2E52C5348>,\n",
       "        <matplotlib.axes._subplots.AxesSubplot object at 0x000001C2E52FE448>,\n",
       "        <matplotlib.axes._subplots.AxesSubplot object at 0x000001C2E5337248>,\n",
       "        <matplotlib.axes._subplots.AxesSubplot object at 0x000001C2E536F388>,\n",
       "        <matplotlib.axes._subplots.AxesSubplot object at 0x000001C2E53A7488>,\n",
       "        <matplotlib.axes._subplots.AxesSubplot object at 0x000001C2E53E0588>,\n",
       "        <matplotlib.axes._subplots.AxesSubplot object at 0x000001C2E54186C8>,\n",
       "        <matplotlib.axes._subplots.AxesSubplot object at 0x000001C2E54C17C8>,\n",
       "        <matplotlib.axes._subplots.AxesSubplot object at 0x000001C2E54FB848>,\n",
       "        <matplotlib.axes._subplots.AxesSubplot object at 0x000001C2E5532988>,\n",
       "        <matplotlib.axes._subplots.AxesSubplot object at 0x000001C2E556BA88>,\n",
       "        <matplotlib.axes._subplots.AxesSubplot object at 0x000001C2E55A4B88>],\n",
       "       [<matplotlib.axes._subplots.AxesSubplot object at 0x000001C2E55DDCC8>,\n",
       "        <matplotlib.axes._subplots.AxesSubplot object at 0x000001C2E5614D48>,\n",
       "        <matplotlib.axes._subplots.AxesSubplot object at 0x000001C2E564DE48>,\n",
       "        <matplotlib.axes._subplots.AxesSubplot object at 0x000001C2E5686F88>,\n",
       "        <matplotlib.axes._subplots.AxesSubplot object at 0x000001C2E56C30C8>,\n",
       "        <matplotlib.axes._subplots.AxesSubplot object at 0x000001C2E56FD1C8>,\n",
       "        <matplotlib.axes._subplots.AxesSubplot object at 0x000001C2E57362C8>,\n",
       "        <matplotlib.axes._subplots.AxesSubplot object at 0x000001C2E576F3C8>,\n",
       "        <matplotlib.axes._subplots.AxesSubplot object at 0x000001C2E57A64C8>,\n",
       "        <matplotlib.axes._subplots.AxesSubplot object at 0x000001C2E57DF608>,\n",
       "        <matplotlib.axes._subplots.AxesSubplot object at 0x000001C2E5819748>,\n",
       "        <matplotlib.axes._subplots.AxesSubplot object at 0x000001C2E58527C8>,\n",
       "        <matplotlib.axes._subplots.AxesSubplot object at 0x000001C2E58898C8>],\n",
       "       [<matplotlib.axes._subplots.AxesSubplot object at 0x000001C2E58C3A08>,\n",
       "        <matplotlib.axes._subplots.AxesSubplot object at 0x000001C2E58FCB08>,\n",
       "        <matplotlib.axes._subplots.AxesSubplot object at 0x000001C2E5934C08>,\n",
       "        <matplotlib.axes._subplots.AxesSubplot object at 0x000001C2E596DCC8>,\n",
       "        <matplotlib.axes._subplots.AxesSubplot object at 0x000001C2E59A5DC8>,\n",
       "        <matplotlib.axes._subplots.AxesSubplot object at 0x000001C2E59DDEC8>,\n",
       "        <matplotlib.axes._subplots.AxesSubplot object at 0x000001C2E5A1B048>,\n",
       "        <matplotlib.axes._subplots.AxesSubplot object at 0x000001C2E5A53148>,\n",
       "        <matplotlib.axes._subplots.AxesSubplot object at 0x000001C2E5A8D208>,\n",
       "        <matplotlib.axes._subplots.AxesSubplot object at 0x000001C2E5AC6348>,\n",
       "        <matplotlib.axes._subplots.AxesSubplot object at 0x000001C2E5AFF448>,\n",
       "        <matplotlib.axes._subplots.AxesSubplot object at 0x000001C2E5B37548>,\n",
       "        <matplotlib.axes._subplots.AxesSubplot object at 0x000001C2E5B77E88>],\n",
       "       [<matplotlib.axes._subplots.AxesSubplot object at 0x000001C2E5BA7788>,\n",
       "        <matplotlib.axes._subplots.AxesSubplot object at 0x000001C2E5BE2808>,\n",
       "        <matplotlib.axes._subplots.AxesSubplot object at 0x000001C2E5C19988>,\n",
       "        <matplotlib.axes._subplots.AxesSubplot object at 0x000001C2E5C52A88>,\n",
       "        <matplotlib.axes._subplots.AxesSubplot object at 0x000001C2E5C8BB88>,\n",
       "        <matplotlib.axes._subplots.AxesSubplot object at 0x000001C2E5CC4CC8>,\n",
       "        <matplotlib.axes._subplots.AxesSubplot object at 0x000001C2E5CFCD08>,\n",
       "        <matplotlib.axes._subplots.AxesSubplot object at 0x000001C2E5D35E08>,\n",
       "        <matplotlib.axes._subplots.AxesSubplot object at 0x000001C2E5D6FF08>,\n",
       "        <matplotlib.axes._subplots.AxesSubplot object at 0x000001C2E5DAB088>,\n",
       "        <matplotlib.axes._subplots.AxesSubplot object at 0x000001C2E5DE3188>,\n",
       "        <matplotlib.axes._subplots.AxesSubplot object at 0x000001C2E5E1C248>,\n",
       "        <matplotlib.axes._subplots.AxesSubplot object at 0x000001C2E5E54388>],\n",
       "       [<matplotlib.axes._subplots.AxesSubplot object at 0x000001C2E5E8E488>,\n",
       "        <matplotlib.axes._subplots.AxesSubplot object at 0x000001C2E5EC6588>,\n",
       "        <matplotlib.axes._subplots.AxesSubplot object at 0x000001C2E5F006C8>,\n",
       "        <matplotlib.axes._subplots.AxesSubplot object at 0x000001C2E5F39748>,\n",
       "        <matplotlib.axes._subplots.AxesSubplot object at 0x000001C2E5F71848>,\n",
       "        <matplotlib.axes._subplots.AxesSubplot object at 0x000001C2E5FA9988>,\n",
       "        <matplotlib.axes._subplots.AxesSubplot object at 0x000001C2E5FE2A88>,\n",
       "        <matplotlib.axes._subplots.AxesSubplot object at 0x000001C2E601BB88>,\n",
       "        <matplotlib.axes._subplots.AxesSubplot object at 0x000001C2E7023C48>,\n",
       "        <matplotlib.axes._subplots.AxesSubplot object at 0x000001C2E705BD08>,\n",
       "        <matplotlib.axes._subplots.AxesSubplot object at 0x000001C2E7094E08>,\n",
       "        <matplotlib.axes._subplots.AxesSubplot object at 0x000001C2E70CEF48>,\n",
       "        <matplotlib.axes._subplots.AxesSubplot object at 0x000001C2E710B088>],\n",
       "       [<matplotlib.axes._subplots.AxesSubplot object at 0x000001C2E7142188>,\n",
       "        <matplotlib.axes._subplots.AxesSubplot object at 0x000001C2E717B288>,\n",
       "        <matplotlib.axes._subplots.AxesSubplot object at 0x000001C2E71B3388>,\n",
       "        <matplotlib.axes._subplots.AxesSubplot object at 0x000001C2E71EC488>,\n",
       "        <matplotlib.axes._subplots.AxesSubplot object at 0x000001C2E72265C8>,\n",
       "        <matplotlib.axes._subplots.AxesSubplot object at 0x000001C2E725E6C8>,\n",
       "        <matplotlib.axes._subplots.AxesSubplot object at 0x000001C2E7298788>,\n",
       "        <matplotlib.axes._subplots.AxesSubplot object at 0x000001C2E72D18C8>,\n",
       "        <matplotlib.axes._subplots.AxesSubplot object at 0x000001C2E730A9C8>,\n",
       "        <matplotlib.axes._subplots.AxesSubplot object at 0x000001C2E7342AC8>,\n",
       "        <matplotlib.axes._subplots.AxesSubplot object at 0x000001C2E737BC08>,\n",
       "        <matplotlib.axes._subplots.AxesSubplot object at 0x000001C2E73B3C88>,\n",
       "        <matplotlib.axes._subplots.AxesSubplot object at 0x000001C2E73EAD88>],\n",
       "       [<matplotlib.axes._subplots.AxesSubplot object at 0x000001C2E7423EC8>,\n",
       "        <matplotlib.axes._subplots.AxesSubplot object at 0x000001C2E745BFC8>,\n",
       "        <matplotlib.axes._subplots.AxesSubplot object at 0x000001C2E749A108>,\n",
       "        <matplotlib.axes._subplots.AxesSubplot object at 0x000001C2E74D51C8>,\n",
       "        <matplotlib.axes._subplots.AxesSubplot object at 0x000001C2E750C308>,\n",
       "        <matplotlib.axes._subplots.AxesSubplot object at 0x000001C2E7545408>,\n",
       "        <matplotlib.axes._subplots.AxesSubplot object at 0x000001C2E757E508>,\n",
       "        <matplotlib.axes._subplots.AxesSubplot object at 0x000001C2E75BBE48>,\n",
       "        <matplotlib.axes._subplots.AxesSubplot object at 0x000001C2E75EF748>,\n",
       "        <matplotlib.axes._subplots.AxesSubplot object at 0x000001C2E76277C8>,\n",
       "        <matplotlib.axes._subplots.AxesSubplot object at 0x000001C2E765F908>,\n",
       "        <matplotlib.axes._subplots.AxesSubplot object at 0x000001C2E7698A08>,\n",
       "        <matplotlib.axes._subplots.AxesSubplot object at 0x000001C2E76D2B08>],\n",
       "       [<matplotlib.axes._subplots.AxesSubplot object at 0x000001C2E770AC48>,\n",
       "        <matplotlib.axes._subplots.AxesSubplot object at 0x000001C2E7742CC8>,\n",
       "        <matplotlib.axes._subplots.AxesSubplot object at 0x000001C2E777BDC8>,\n",
       "        <matplotlib.axes._subplots.AxesSubplot object at 0x000001C2E77B3F08>,\n",
       "        <matplotlib.axes._subplots.AxesSubplot object at 0x000001C2E77F1048>,\n",
       "        <matplotlib.axes._subplots.AxesSubplot object at 0x000001C2E782A148>,\n",
       "        <matplotlib.axes._subplots.AxesSubplot object at 0x000001C2E7862248>,\n",
       "        <matplotlib.axes._subplots.AxesSubplot object at 0x000001C2E789B348>,\n",
       "        <matplotlib.axes._subplots.AxesSubplot object at 0x000001C2E78D4448>,\n",
       "        <matplotlib.axes._subplots.AxesSubplot object at 0x000001C2E790E588>,\n",
       "        <matplotlib.axes._subplots.AxesSubplot object at 0x000001C2E794CE88>,\n",
       "        <matplotlib.axes._subplots.AxesSubplot object at 0x000001C2E797F748>,\n",
       "        <matplotlib.axes._subplots.AxesSubplot object at 0x000001C2E79B7888>],\n",
       "       [<matplotlib.axes._subplots.AxesSubplot object at 0x000001C2E79EF9C8>,\n",
       "        <matplotlib.axes._subplots.AxesSubplot object at 0x000001C2E7A28AC8>,\n",
       "        <matplotlib.axes._subplots.AxesSubplot object at 0x000001C2E7A60BC8>,\n",
       "        <matplotlib.axes._subplots.AxesSubplot object at 0x000001C2E7A98C48>,\n",
       "        <matplotlib.axes._subplots.AxesSubplot object at 0x000001C2E7AD2D48>,\n",
       "        <matplotlib.axes._subplots.AxesSubplot object at 0x000001C2E7B0AE48>,\n",
       "        <matplotlib.axes._subplots.AxesSubplot object at 0x000001C2E7B43F88>,\n",
       "        <matplotlib.axes._subplots.AxesSubplot object at 0x000001C2E7B810C8>,\n",
       "        <matplotlib.axes._subplots.AxesSubplot object at 0x000001C2E7BBB188>,\n",
       "        <matplotlib.axes._subplots.AxesSubplot object at 0x000001C2E7BF22C8>,\n",
       "        <matplotlib.axes._subplots.AxesSubplot object at 0x000001C2E7C2B3C8>,\n",
       "        <matplotlib.axes._subplots.AxesSubplot object at 0x000001C2E7C644C8>,\n",
       "        <matplotlib.axes._subplots.AxesSubplot object at 0x000001C2E7C9D608>],\n",
       "       [<matplotlib.axes._subplots.AxesSubplot object at 0x000001C2E7CDCE88>,\n",
       "        <matplotlib.axes._subplots.AxesSubplot object at 0x000001C2E7D0D708>,\n",
       "        <matplotlib.axes._subplots.AxesSubplot object at 0x000001C2E7D46848>,\n",
       "        <matplotlib.axes._subplots.AxesSubplot object at 0x000001C2E7D7F948>,\n",
       "        <matplotlib.axes._subplots.AxesSubplot object at 0x000001C2E7DB8A48>,\n",
       "        <matplotlib.axes._subplots.AxesSubplot object at 0x000001C2E7DF1B88>,\n",
       "        <matplotlib.axes._subplots.AxesSubplot object at 0x000001C2E7E28C08>,\n",
       "        <matplotlib.axes._subplots.AxesSubplot object at 0x000001C2E7E61D08>,\n",
       "        <matplotlib.axes._subplots.AxesSubplot object at 0x000001C2E7E9AE48>,\n",
       "        <matplotlib.axes._subplots.AxesSubplot object at 0x000001C2E7ED3F48>,\n",
       "        <matplotlib.axes._subplots.AxesSubplot object at 0x000001C2E7F12088>,\n",
       "        <matplotlib.axes._subplots.AxesSubplot object at 0x000001C2E7F49148>,\n",
       "        <matplotlib.axes._subplots.AxesSubplot object at 0x000001C2E7F83248>],\n",
       "       [<matplotlib.axes._subplots.AxesSubplot object at 0x000001C2E7FBB348>,\n",
       "        <matplotlib.axes._subplots.AxesSubplot object at 0x000001C2E7FF3488>,\n",
       "        <matplotlib.axes._subplots.AxesSubplot object at 0x000001C2E802C588>,\n",
       "        <matplotlib.axes._subplots.AxesSubplot object at 0x000001C2E8069E48>,\n",
       "        <matplotlib.axes._subplots.AxesSubplot object at 0x000001C2E809C788>,\n",
       "        <matplotlib.axes._subplots.AxesSubplot object at 0x000001C2E80D6888>,\n",
       "        <matplotlib.axes._subplots.AxesSubplot object at 0x000001C2E810F988>,\n",
       "        <matplotlib.axes._subplots.AxesSubplot object at 0x000001C2E8147A88>,\n",
       "        <matplotlib.axes._subplots.AxesSubplot object at 0x000001C2E8180BC8>,\n",
       "        <matplotlib.axes._subplots.AxesSubplot object at 0x000001C2E81B8C48>,\n",
       "        <matplotlib.axes._subplots.AxesSubplot object at 0x000001C2E81F1D48>,\n",
       "        <matplotlib.axes._subplots.AxesSubplot object at 0x000001C2E8229E88>,\n",
       "        <matplotlib.axes._subplots.AxesSubplot object at 0x000001C2E8260F88>],\n",
       "       [<matplotlib.axes._subplots.AxesSubplot object at 0x000001C2E82A10C8>,\n",
       "        <matplotlib.axes._subplots.AxesSubplot object at 0x000001C2E82D91C8>,\n",
       "        <matplotlib.axes._subplots.AxesSubplot object at 0x000001C2E83112C8>,\n",
       "        <matplotlib.axes._subplots.AxesSubplot object at 0x000001C2E834A3C8>,\n",
       "        <matplotlib.axes._subplots.AxesSubplot object at 0x000001C2E8383508>,\n",
       "        <matplotlib.axes._subplots.AxesSubplot object at 0x000001C2E83BB608>,\n",
       "        <matplotlib.axes._subplots.AxesSubplot object at 0x000001C2E83F46C8>,\n",
       "        <matplotlib.axes._subplots.AxesSubplot object at 0x000001C2E842D808>,\n",
       "        <matplotlib.axes._subplots.AxesSubplot object at 0x000001C2E8465908>,\n",
       "        <matplotlib.axes._subplots.AxesSubplot object at 0x000001C2E849DA48>,\n",
       "        <matplotlib.axes._subplots.AxesSubplot object at 0x000001C2E84D6B88>,\n",
       "        <matplotlib.axes._subplots.AxesSubplot object at 0x000001C2E850ED08>,\n",
       "        <matplotlib.axes._subplots.AxesSubplot object at 0x000001C2E8545DC8>],\n",
       "       [<matplotlib.axes._subplots.AxesSubplot object at 0x000001C2E857DF08>,\n",
       "        <matplotlib.axes._subplots.AxesSubplot object at 0x000001C2E85BF088>,\n",
       "        <matplotlib.axes._subplots.AxesSubplot object at 0x000001C2E85F6208>,\n",
       "        <matplotlib.axes._subplots.AxesSubplot object at 0x000001C2E862F348>,\n",
       "        <matplotlib.axes._subplots.AxesSubplot object at 0x000001C2E8668448>,\n",
       "        <matplotlib.axes._subplots.AxesSubplot object at 0x000001C2E86A05C8>,\n",
       "        <matplotlib.axes._subplots.AxesSubplot object at 0x000001C2E86DA708>,\n",
       "        <matplotlib.axes._subplots.AxesSubplot object at 0x000001C2E8712848>,\n",
       "        <matplotlib.axes._subplots.AxesSubplot object at 0x000001C2E874A9C8>,\n",
       "        <matplotlib.axes._subplots.AxesSubplot object at 0x000001C2E8783A88>,\n",
       "        <matplotlib.axes._subplots.AxesSubplot object at 0x000001C2E87BABC8>,\n",
       "        <matplotlib.axes._subplots.AxesSubplot object at 0x000001C2E87F2E08>,\n",
       "        <matplotlib.axes._subplots.AxesSubplot object at 0x000001C2E8832048>]],\n",
       "      dtype=object)"
      ]
     },
     "execution_count": 21,
     "metadata": {},
     "output_type": "execute_result"
    },
    {
     "data": {
      "image/png": "[encoded data removed]",
      "text/plain": [
       "<Figure size 432x288 with 182 Axes>"
      ]
     },
     "metadata": {
      "needs_background": "light"
     },
     "output_type": "display_data"
    }
   ],
   "source": [
    "data.hist(column=\"PH\",by=\"Temp\",bins=10)"
   ]
  },
  {
   "cell_type": "code",
   "execution_count": 22,
   "metadata": {},
   "outputs": [
    {
     "data": {
      "text/plain": [
       "<matplotlib.axes._subplots.AxesSubplot at 0x1c2e8b60f08>"
      ]
     },
     "execution_count": 22,
     "metadata": {},
     "output_type": "execute_result"
    },
    {
     "data": {
      "image/png": "[encoded data removed]",
      "text/plain": [
       "<Figure size 432x288 with 1 Axes>"
      ]
     },
     "metadata": {
      "needs_background": "light"
     },
     "output_type": "display_data"
    }
   ],
   "source": [
    "data.boxplot(column='PH',by='Temp')"
   ]
  },
  {
   "cell_type": "markdown",
   "metadata": {},
   "source": [
    "# Label Encoding"
   ]
  },
  {
   "cell_type": "code",
   "execution_count": 23,
   "metadata": {},
   "outputs": [],
   "source": [
    "from sklearn.preprocessing import LabelEncoder\n",
    "lb=LabelEncoder()\n",
    "data['LOCATIONS']=lb.fit_transform(data['LOCATIONS'])"
   ]
  },
  {
   "cell_type": "code",
   "execution_count": 24,
   "metadata": {},
   "outputs": [],
   "source": [
    "data['STATE']=lb.fit_transform(data['STATE'])"
   ]
  },
  {
   "cell_type": "code",
   "execution_count": 25,
   "metadata": {},
   "outputs": [],
   "source": [
    "data['Temp'] = pd.to_numeric(data['Temp'],errors='coerce')"
   ]
  },
  {
   "cell_type": "code",
   "execution_count": 26,
   "metadata": {},
   "outputs": [
    {
     "data": {
      "text/plain": [
       "STATION CODE                        float64\n",
       "LOCATIONS                             int32\n",
       "STATE                                 int32\n",
       "Temp                                float64\n",
       "D.O. (mg/l)                         float64\n",
       "CONDUCTIVITY (µmhos/cm)             float64\n",
       "B.O.D. (mg/l)                        object\n",
       "NITRATENAN N+ NITRITENANN (mg/l)     object\n",
       "FECAL COLIFORM (MPN/100ml)           object\n",
       "TOTAL COLIFORM (MPN/100ml)Mean       object\n",
       "year                                  int64\n",
       "PH                                  float64\n",
       "dtype: object"
      ]
     },
     "execution_count": 26,
     "metadata": {},
     "output_type": "execute_result"
    }
   ],
   "source": [
    "data.dtypes"
   ]
  },
  {
   "cell_type": "code",
   "execution_count": 27,
   "metadata": {},
   "outputs": [],
   "source": [
    "data['B.O.D. (mg/l)'] = pd.to_numeric(data['B.O.D. (mg/l)'],errors='coerce')"
   ]
  },
  {
   "cell_type": "code",
   "execution_count": 28,
   "metadata": {},
   "outputs": [],
   "source": [
    "data['NITRATENAN N+ NITRITENANN (mg/l)'] = pd.to_numeric(data['NITRATENAN N+ NITRITENANN (mg/l)'],errors='coerce')"
   ]
  },
  {
   "cell_type": "code",
   "execution_count": 29,
   "metadata": {},
   "outputs": [],
   "source": [
    "data['FECAL COLIFORM (MPN/100ml)'] = pd.to_numeric(data['FECAL COLIFORM (MPN/100ml)'],errors='coerce')"
   ]
  },
  {
   "cell_type": "code",
   "execution_count": 30,
   "metadata": {},
   "outputs": [],
   "source": [
    "data['TOTAL COLIFORM (MPN/100ml)Mean'] = pd.to_numeric(data['TOTAL COLIFORM (MPN/100ml)Mean'],errors='coerce')"
   ]
  },
  {
   "cell_type": "code",
   "execution_count": 31,
   "metadata": {},
   "outputs": [],
   "source": [
    "data['Temp'].fillna(30,inplace=True)"
   ]
  },
  {
   "cell_type": "code",
   "execution_count": 32,
   "metadata": {},
   "outputs": [],
   "source": [
    "data['TOTAL COLIFORM (MPN/100ml)Mean'].fillna(60, inplace=True)"
   ]
  },
  {
   "cell_type": "code",
   "execution_count": 33,
   "metadata": {},
   "outputs": [],
   "source": [
    "data['FECAL COLIFORM (MPN/100ml)'].fillna(17, inplace=True)"
   ]
  },
  {
   "cell_type": "code",
   "execution_count": 34,
   "metadata": {},
   "outputs": [],
   "source": [
    "data['NITRATENAN N+ NITRITENANN (mg/l)'].fillna(1.42, inplace=True)"
   ]
  },
  {
   "cell_type": "code",
   "execution_count": 35,
   "metadata": {},
   "outputs": [],
   "source": [
    "data['B.O.D. (mg/l)'].fillna(1.5, inplace=True)"
   ]
  },
  {
   "cell_type": "code",
   "execution_count": 36,
   "metadata": {},
   "outputs": [
    {
     "data": {
      "text/plain": [
       "STATION CODE                        False\n",
       "LOCATIONS                           False\n",
       "STATE                               False\n",
       "Temp                                False\n",
       "D.O. (mg/l)                         False\n",
       "CONDUCTIVITY (µmhos/cm)             False\n",
       "B.O.D. (mg/l)                       False\n",
       "NITRATENAN N+ NITRITENANN (mg/l)    False\n",
       "FECAL COLIFORM (MPN/100ml)          False\n",
       "TOTAL COLIFORM (MPN/100ml)Mean      False\n",
       "year                                False\n",
       "PH                                  False\n",
       "dtype: bool"
      ]
     },
     "execution_count": 36,
     "metadata": {},
     "output_type": "execute_result"
    }
   ],
   "source": [
    "data.isnull().any()"
   ]
  },
  {
   "cell_type": "code",
   "execution_count": 37,
   "metadata": {},
   "outputs": [],
   "source": [
    "X=data.iloc[:,3:10].values"
   ]
  },
  {
   "cell_type": "code",
   "execution_count": 38,
   "metadata": {},
   "outputs": [],
   "source": [
    "Y=data.iloc[:,-1].values"
   ]
  },
  {
   "cell_type": "code",
   "execution_count": 39,
   "metadata": {
    "scrolled": true
   },
   "outputs": [
    {
     "data": {
      "text/plain": [
       "array([[3.060e+01, 6.700e+00, 2.030e+02, ..., 1.000e-01, 1.100e+01,\n",
       "        2.700e+01],\n",
       "       [2.980e+01, 5.700e+00, 1.890e+02, ..., 2.000e-01, 4.953e+03,\n",
       "        8.391e+03],\n",
       "       [2.950e+01, 6.300e+00, 1.790e+02, ..., 1.000e-01, 3.243e+03,\n",
       "        5.330e+03],\n",
       "       ...,\n",
       "       [2.800e+01, 7.600e+00, 6.200e+00, ..., 1.420e+00, 1.700e+01,\n",
       "        5.700e+02],\n",
       "       [2.800e+01, 7.700e+00, 6.500e+00, ..., 1.420e+00, 1.700e+01,\n",
       "        5.620e+02],\n",
       "       [2.900e+01, 7.600e+00, 5.700e+00, ..., 1.420e+00, 1.700e+01,\n",
       "        5.460e+02]])"
      ]
     },
     "execution_count": 39,
     "metadata": {},
     "output_type": "execute_result"
    }
   ],
   "source": [
    "X"
   ]
  },
  {
   "cell_type": "code",
   "execution_count": 40,
   "metadata": {},
   "outputs": [
    {
     "data": {
      "text/plain": [
       "array([  7.5,   7.2,   6.9, ...,  98. ,  91. , 110. ])"
      ]
     },
     "execution_count": 40,
     "metadata": {},
     "output_type": "execute_result"
    }
   ],
   "source": [
    "Y"
   ]
  },
  {
   "cell_type": "code",
   "execution_count": 41,
   "metadata": {},
   "outputs": [],
   "source": [
    "feature=data.iloc[:,1:3].values"
   ]
  },
  {
   "cell_type": "markdown",
   "metadata": {},
   "source": [
    "# OneHotEncoding"
   ]
  },
  {
   "cell_type": "code",
   "execution_count": 42,
   "metadata": {},
   "outputs": [
    {
     "name": "stderr",
     "output_type": "stream",
     "text": [
      "C:\\Users\\Admin\\anaconda3\\lib\\site-packages\\sklearn\\preprocessing\\_encoders.py:415: FutureWarning: The handling of integer data will change in version 0.22. Currently, the categories are determined based on the range [0, max(values)], while in the future they will be determined based on the unique values.\n",
      "If you want the future behaviour and silence this warning, you can specify \"categories='auto'\".\n",
      "In case you used a LabelEncoder before this OneHotEncoder to convert the categories to integers, then you can now use the OneHotEncoder directly.\n",
      "  warnings.warn(msg, FutureWarning)\n",
      "C:\\Users\\Admin\\anaconda3\\lib\\site-packages\\sklearn\\preprocessing\\_encoders.py:451: DeprecationWarning: The 'categorical_features' keyword is deprecated in version 0.20 and will be removed in 0.22. You can use the ColumnTransformer instead.\n",
      "  \"use the ColumnTransformer instead.\", DeprecationWarning)\n",
      "C:\\Users\\Admin\\anaconda3\\lib\\site-packages\\sklearn\\preprocessing\\_encoders.py:415: FutureWarning: The handling of integer data will change in version 0.22. Currently, the categories are determined based on the range [0, max(values)], while in the future they will be determined based on the unique values.\n",
      "If you want the future behaviour and silence this warning, you can specify \"categories='auto'\".\n",
      "In case you used a LabelEncoder before this OneHotEncoder to convert the categories to integers, then you can now use the OneHotEncoder directly.\n",
      "  warnings.warn(msg, FutureWarning)\n",
      "C:\\Users\\Admin\\anaconda3\\lib\\site-packages\\sklearn\\preprocessing\\_encoders.py:451: DeprecationWarning: The 'categorical_features' keyword is deprecated in version 0.20 and will be removed in 0.22. You can use the ColumnTransformer instead.\n",
      "  \"use the ColumnTransformer instead.\", DeprecationWarning)\n"
     ]
    }
   ],
   "source": [
    "from sklearn.preprocessing import OneHotEncoder\n",
    "ohe=OneHotEncoder(categorical_features=[0])\n",
    "feature=ohe.fit_transform(feature).toarray()\n",
    "oh=OneHotEncoder(categorical_features=[1])\n",
    "feature=oh.fit_transform(feature).toarray()"
   ]
  },
  {
   "cell_type": "code",
   "execution_count": 43,
   "metadata": {},
   "outputs": [
    {
     "data": {
      "text/plain": [
       "array([[3.060e+01, 6.700e+00, 2.030e+02, ..., 1.000e-01, 1.100e+01,\n",
       "        2.700e+01],\n",
       "       [2.980e+01, 5.700e+00, 1.890e+02, ..., 2.000e-01, 4.953e+03,\n",
       "        8.391e+03],\n",
       "       [2.950e+01, 6.300e+00, 1.790e+02, ..., 1.000e-01, 3.243e+03,\n",
       "        5.330e+03],\n",
       "       ...,\n",
       "       [2.800e+01, 7.600e+00, 6.200e+00, ..., 1.420e+00, 1.700e+01,\n",
       "        5.700e+02],\n",
       "       [2.800e+01, 7.700e+00, 6.500e+00, ..., 1.420e+00, 1.700e+01,\n",
       "        5.620e+02],\n",
       "       [2.900e+01, 7.600e+00, 5.700e+00, ..., 1.420e+00, 1.700e+01,\n",
       "        5.460e+02]])"
      ]
     },
     "execution_count": 43,
     "metadata": {},
     "output_type": "execute_result"
    }
   ],
   "source": [
    "X"
   ]
  },
  {
   "cell_type": "markdown",
   "metadata": {},
   "source": [
    "# Split Data Set to Train and Test"
   ]
  },
  {
   "cell_type": "code",
   "execution_count": 44,
   "metadata": {},
   "outputs": [],
   "source": [
    "from sklearn.model_selection import train_test_split\n",
    "x_train,x_test,y_train,y_test=train_test_split(X,Y,test_size=0.2,random_state=0)"
   ]
  },
  {
   "cell_type": "markdown",
   "metadata": {},
   "source": [
    "# Feature Scaling"
   ]
  },
  {
   "cell_type": "code",
   "execution_count": 45,
   "metadata": {},
   "outputs": [],
   "source": [
    "from sklearn.preprocessing import StandardScaler\n",
    "sc= StandardScaler()\n",
    "\n",
    "x_train =sc.fit_transform(x_train)\n",
    "x_test = sc.transform(x_test)"
   ]
  },
  {
   "cell_type": "markdown",
   "metadata": {},
   "source": [
    "# Creating Model"
   ]
  },
  {
   "cell_type": "code",
   "execution_count": 46,
   "metadata": {},
   "outputs": [],
   "source": [
    "y_train=y_train.reshape(-1,1)"
   ]
  },
  {
   "cell_type": "code",
   "execution_count": 47,
   "metadata": {},
   "outputs": [
    {
     "data": {
      "text/plain": [
       "(1592, 1)"
      ]
     },
     "execution_count": 47,
     "metadata": {},
     "output_type": "execute_result"
    }
   ],
   "source": [
    "y_train.shape"
   ]
  },
  {
   "cell_type": "code",
   "execution_count": 48,
   "metadata": {},
   "outputs": [],
   "source": [
    "y_test=y_test.reshape(-1,1)"
   ]
  },
  {
   "cell_type": "code",
   "execution_count": 49,
   "metadata": {},
   "outputs": [
    {
     "data": {
      "text/plain": [
       "(399, 1)"
      ]
     },
     "execution_count": 49,
     "metadata": {},
     "output_type": "execute_result"
    }
   ],
   "source": [
    "y_test.shape"
   ]
  },
  {
   "cell_type": "code",
   "execution_count": 50,
   "metadata": {},
   "outputs": [
    {
     "data": {
      "text/plain": [
       "(1592, 7)"
      ]
     },
     "execution_count": 50,
     "metadata": {},
     "output_type": "execute_result"
    }
   ],
   "source": [
    "x_train.shape"
   ]
  },
  {
   "cell_type": "code",
   "execution_count": 51,
   "metadata": {},
   "outputs": [
    {
     "data": {
      "text/plain": [
       "(399, 7)"
      ]
     },
     "execution_count": 51,
     "metadata": {},
     "output_type": "execute_result"
    }
   ],
   "source": [
    "x_test.shape"
   ]
  },
  {
   "cell_type": "code",
   "execution_count": 52,
   "metadata": {},
   "outputs": [
    {
     "name": "stderr",
     "output_type": "stream",
     "text": [
      "C:\\Users\\Admin\\anaconda3\\lib\\site-packages\\ipykernel_launcher.py:3: DataConversionWarning: A column-vector y was passed when a 1d array was expected. Please change the shape of y to (n_samples,), for example using ravel().\n",
      "  This is separate from the ipykernel package so we can avoid doing imports until\n"
     ]
    },
    {
     "data": {
      "text/plain": [
       "RandomForestRegressor(bootstrap=True, criterion='mse', max_depth=None,\n",
       "                      max_features='auto', max_leaf_nodes=None,\n",
       "                      min_impurity_decrease=0.0, min_impurity_split=None,\n",
       "                      min_samples_leaf=1, min_samples_split=2,\n",
       "                      min_weight_fraction_leaf=0.0, n_estimators=100,\n",
       "                      n_jobs=None, oob_score=False, random_state=0, verbose=0,\n",
       "                      warm_start=False)"
      ]
     },
     "execution_count": 52,
     "metadata": {},
     "output_type": "execute_result"
    }
   ],
   "source": [
    "from sklearn.ensemble import RandomForestRegressor\n",
    "rig=RandomForestRegressor(n_estimators=100,random_state=0)\n",
    "rig.fit(x_train,y_train)"
   ]
  },
  {
   "cell_type": "code",
   "execution_count": 53,
   "metadata": {},
   "outputs": [],
   "source": [
    "y_predict=rig.predict(x_test)"
   ]
  },
  {
   "cell_type": "code",
   "execution_count": 54,
   "metadata": {},
   "outputs": [],
   "source": [
    "y=rig.predict(sc.transform([[27.2,5.6,200.0,1.5,0.1,3000.1,5000.5]]))"
   ]
  },
  {
   "cell_type": "code",
   "execution_count": 55,
   "metadata": {},
   "outputs": [
    {
     "name": "stdout",
     "output_type": "stream",
     "text": [
      "Water is Pure\n"
     ]
    }
   ],
   "source": [
    "if 6.5<y<7.5:\n",
    "    print(\"Water is Pure\")\n",
    "else:\n",
    "    print(\"Water is not Pure\")"
   ]
  },
  {
   "cell_type": "markdown",
   "metadata": {},
   "source": [
    "# Evaluation"
   ]
  },
  {
   "cell_type": "code",
   "execution_count": 56,
   "metadata": {},
   "outputs": [
    {
     "name": "stdout",
     "output_type": "stream",
     "text": [
      "Accuracy is :  0.8343490618310048\n"
     ]
    }
   ],
   "source": [
    "accuracy=rig.score(x_train,y_train)\n",
    "print(\"Accuracy is : \",accuracy)"
   ]
  },
  {
   "cell_type": "code",
   "execution_count": 57,
   "metadata": {},
   "outputs": [
    {
     "data": {
      "text/plain": [
       "0.021310707185010158"
      ]
     },
     "execution_count": 57,
     "metadata": {},
     "output_type": "execute_result"
    }
   ],
   "source": [
    "from sklearn.metrics import r2_score\n",
    "r2_score(y_test,y_predict)\n"
   ]
  },
  {
   "cell_type": "code",
   "execution_count": 58,
   "metadata": {},
   "outputs": [
    {
     "data": {
      "text/plain": [
       "<matplotlib.collections.PathCollection at 0x1c2ef5ece48>"
      ]
     },
     "execution_count": 58,
     "metadata": {},
     "output_type": "execute_result"
    },
    {
     "data": {
      "image/png": "[encoded data removed]",
      "text/plain": [
       "<Figure size 432x288 with 1 Axes>"
      ]
     },
     "metadata": {
      "needs_background": "light"
     },
     "output_type": "display_data"
    }
   ],
   "source": [
    "#visualizing the result\n",
    "plt.scatter(y_test,y_predict,color='blue')"
   ]
  },
  {
   "cell_type": "code",
   "execution_count": 59,
   "metadata": {},
   "outputs": [
    {
     "data": {
      "image/png": "[encoded data removed]",
      "text/plain": [
       "<Figure size 432x288 with 1 Axes>"
      ]
     },
     "metadata": {
      "needs_background": "light"
     },
     "output_type": "display_data"
    }
   ],
   "source": [
    "plt.plot(y_test,y_predict,color='blue')\n",
    "plt.show()"
   ]
  },
  {
   "cell_type": "code",
   "execution_count": 60,
   "metadata": {},
   "outputs": [
    {
     "data": {
      "text/plain": [
       "[<matplotlib.lines.Line2D at 0x1c2ef689148>,\n",
       " <matplotlib.lines.Line2D at 0x1c2ef6dacc8>,\n",
       " <matplotlib.lines.Line2D at 0x1c2ef6dae88>,\n",
       " <matplotlib.lines.Line2D at 0x1c2ef6dc088>,\n",
       " <matplotlib.lines.Line2D at 0x1c2ef6dc248>,\n",
       " <matplotlib.lines.Line2D at 0x1c2ef6dc448>,\n",
       " <matplotlib.lines.Line2D at 0x1c2ef6dc608>]"
      ]
     },
     "execution_count": 60,
     "metadata": {},
     "output_type": "execute_result"
    },
    {
     "data": {
      "image/png": "[encoded data removed]",
      "text/plain": [
       "<Figure size 432x288 with 1 Axes>"
      ]
     },
     "metadata": {
      "needs_background": "light"
     },
     "output_type": "display_data"
    }
   ],
   "source": [
    "plt.scatter(X[:,0],Y,color='red')\n",
    "plt.plot(x_test,y_predict,color='blue')"
   ]
  },
  {
   "cell_type": "code",
   "execution_count": null,
   "metadata": {},
   "outputs": [],
   "source": []
  }
 ],
 "metadata": {
  "kernelspec": {
   "display_name": "Python 3",
   "language": "python",
   "name": "python3"
  },
  "language_info": {
   "codemirror_mode": {
    "name": "ipython",
    "version": 3
   },
   "file_extension": ".py",
   "mimetype": "text/x-python",
   "name": "python",
   "nbconvert_exporter": "python",
   "pygments_lexer": "ipython3",
   "version": "3.7.6"
  }
 },
 "nbformat": 4,
 "nbformat_minor": 4
}
