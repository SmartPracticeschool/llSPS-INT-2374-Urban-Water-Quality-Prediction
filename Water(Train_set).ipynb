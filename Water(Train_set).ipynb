{
 "cells": [
  {
   "cell_type": "code",
   "execution_count": 3,
   "metadata": {},
   "outputs": [
    {
     "data": {
      "text/plain": [
       "'C:\\\\Users\\\\Admin\\\\Desktop\\\\Internship\\\\Data Sets'"
      ]
     },
     "execution_count": 3,
     "metadata": {},
     "output_type": "execute_result"
    }
   ],
   "source": [
    "import os\n",
    "os.chdir(\"C:/Users/Admin/Desktop/Internship/Data Sets\")\n",
    "os.getcwd()"
   ]
  },
  {
   "cell_type": "code",
   "execution_count": 4,
   "metadata": {},
   "outputs": [],
   "source": [
    "import numpy as np\n",
    "import pandas as pd\n",
    "import matplotlib.pyplot as plt\n",
    "data=pd.read_csv(\"water_dataX.csv\", encoding='unicode_escape')"
   ]
  },
  {
   "cell_type": "code",
   "execution_count": 5,
   "metadata": {},
   "outputs": [
    {
     "data": {
      "text/html": [
       "<div>\n",
       "<style scoped>\n",
       "    .dataframe tbody tr th:only-of-type {\n",
       "        vertical-align: middle;\n",
       "    }\n",
       "\n",
       "    .dataframe tbody tr th {\n",
       "        vertical-align: top;\n",
       "    }\n",
       "\n",
       "    .dataframe thead th {\n",
       "        text-align: right;\n",
       "    }\n",
       "</style>\n",
       "<table border=\"1\" class=\"dataframe\">\n",
       "  <thead>\n",
       "    <tr style=\"text-align: right;\">\n",
       "      <th></th>\n",
       "      <th>STATION CODE</th>\n",
       "      <th>LOCATIONS</th>\n",
       "      <th>STATE</th>\n",
       "      <th>Temp</th>\n",
       "      <th>D.O. (mg/l)</th>\n",
       "      <th>CONDUCTIVITY (µmhos/cm)</th>\n",
       "      <th>B.O.D. (mg/l)</th>\n",
       "      <th>NITRATENAN N+ NITRITENANN (mg/l)</th>\n",
       "      <th>FECAL COLIFORM (MPN/100ml)</th>\n",
       "      <th>TOTAL COLIFORM (MPN/100ml)Mean</th>\n",
       "      <th>year</th>\n",
       "      <th>PH</th>\n",
       "    </tr>\n",
       "  </thead>\n",
       "  <tbody>\n",
       "    <tr>\n",
       "      <th>0</th>\n",
       "      <td>1393</td>\n",
       "      <td>DAMANGANGA AT D/S OF MADHUBAN, DAMAN</td>\n",
       "      <td>DAMAN &amp; DIU</td>\n",
       "      <td>30.6</td>\n",
       "      <td>6.7</td>\n",
       "      <td>203</td>\n",
       "      <td>NAN</td>\n",
       "      <td>0.1</td>\n",
       "      <td>11</td>\n",
       "      <td>27</td>\n",
       "      <td>2014</td>\n",
       "      <td>7.5</td>\n",
       "    </tr>\n",
       "    <tr>\n",
       "      <th>1</th>\n",
       "      <td>1399</td>\n",
       "      <td>ZUARI AT D/S OF PT. WHERE KUMBARJRIA CANAL JOI...</td>\n",
       "      <td>GOA</td>\n",
       "      <td>29.8</td>\n",
       "      <td>5.7</td>\n",
       "      <td>189</td>\n",
       "      <td>2</td>\n",
       "      <td>0.2</td>\n",
       "      <td>4953</td>\n",
       "      <td>8391</td>\n",
       "      <td>2014</td>\n",
       "      <td>7.2</td>\n",
       "    </tr>\n",
       "    <tr>\n",
       "      <th>2</th>\n",
       "      <td>1475</td>\n",
       "      <td>ZUARI AT PANCHAWADI</td>\n",
       "      <td>GOA</td>\n",
       "      <td>29.5</td>\n",
       "      <td>6.3</td>\n",
       "      <td>179</td>\n",
       "      <td>1.7</td>\n",
       "      <td>0.1</td>\n",
       "      <td>3243</td>\n",
       "      <td>5330</td>\n",
       "      <td>2014</td>\n",
       "      <td>6.9</td>\n",
       "    </tr>\n",
       "    <tr>\n",
       "      <th>3</th>\n",
       "      <td>3181</td>\n",
       "      <td>RIVER ZUARI AT BORIM BRIDGE</td>\n",
       "      <td>GOA</td>\n",
       "      <td>29.7</td>\n",
       "      <td>5.8</td>\n",
       "      <td>64</td>\n",
       "      <td>3.8</td>\n",
       "      <td>0.5</td>\n",
       "      <td>5382</td>\n",
       "      <td>8443</td>\n",
       "      <td>2014</td>\n",
       "      <td>6.9</td>\n",
       "    </tr>\n",
       "    <tr>\n",
       "      <th>4</th>\n",
       "      <td>3182</td>\n",
       "      <td>RIVER ZUARI AT MARCAIM JETTY</td>\n",
       "      <td>GOA</td>\n",
       "      <td>29.5</td>\n",
       "      <td>5.8</td>\n",
       "      <td>83</td>\n",
       "      <td>1.9</td>\n",
       "      <td>0.4</td>\n",
       "      <td>3428</td>\n",
       "      <td>5500</td>\n",
       "      <td>2014</td>\n",
       "      <td>7.3</td>\n",
       "    </tr>\n",
       "    <tr>\n",
       "      <th>...</th>\n",
       "      <td>...</td>\n",
       "      <td>...</td>\n",
       "      <td>...</td>\n",
       "      <td>...</td>\n",
       "      <td>...</td>\n",
       "      <td>...</td>\n",
       "      <td>...</td>\n",
       "      <td>...</td>\n",
       "      <td>...</td>\n",
       "      <td>...</td>\n",
       "      <td>...</td>\n",
       "      <td>...</td>\n",
       "    </tr>\n",
       "    <tr>\n",
       "      <th>1986</th>\n",
       "      <td>1330</td>\n",
       "      <td>TAMBIRAPARANI AT ARUMUGANERI, TAMILNADU</td>\n",
       "      <td>NAN</td>\n",
       "      <td>NAN</td>\n",
       "      <td>7.9</td>\n",
       "      <td>7.2</td>\n",
       "      <td>2.7</td>\n",
       "      <td>0.518</td>\n",
       "      <td>0.518</td>\n",
       "      <td>202</td>\n",
       "      <td>2003</td>\n",
       "      <td>738</td>\n",
       "    </tr>\n",
       "    <tr>\n",
       "      <th>1987</th>\n",
       "      <td>1450</td>\n",
       "      <td>PALAR AT VANIYAMBADI WATER SUPPLY HEAD WORK, T...</td>\n",
       "      <td>NAN</td>\n",
       "      <td>29</td>\n",
       "      <td>7.5</td>\n",
       "      <td>6.3</td>\n",
       "      <td>2.6</td>\n",
       "      <td>0.155</td>\n",
       "      <td>0.155</td>\n",
       "      <td>315</td>\n",
       "      <td>2003</td>\n",
       "      <td>585</td>\n",
       "    </tr>\n",
       "    <tr>\n",
       "      <th>1988</th>\n",
       "      <td>1403</td>\n",
       "      <td>GUMTI AT U/S SOUTH TRIPURA,TRIPURA</td>\n",
       "      <td>NAN</td>\n",
       "      <td>28</td>\n",
       "      <td>7.6</td>\n",
       "      <td>6.2</td>\n",
       "      <td>1.2</td>\n",
       "      <td>NAN</td>\n",
       "      <td>NAN</td>\n",
       "      <td>570</td>\n",
       "      <td>2003</td>\n",
       "      <td>98</td>\n",
       "    </tr>\n",
       "    <tr>\n",
       "      <th>1989</th>\n",
       "      <td>1404</td>\n",
       "      <td>GUMTI AT D/S SOUTH TRIPURA, TRIPURA</td>\n",
       "      <td>NAN</td>\n",
       "      <td>28</td>\n",
       "      <td>7.7</td>\n",
       "      <td>6.5</td>\n",
       "      <td>1.3</td>\n",
       "      <td>NAN</td>\n",
       "      <td>NAN</td>\n",
       "      <td>562</td>\n",
       "      <td>2003</td>\n",
       "      <td>91</td>\n",
       "    </tr>\n",
       "    <tr>\n",
       "      <th>1990</th>\n",
       "      <td>1726</td>\n",
       "      <td>CHANDRAPUR, AGARTALA D/S OF HAORA RIVER, TRIPURA</td>\n",
       "      <td>NAN</td>\n",
       "      <td>29</td>\n",
       "      <td>7.6</td>\n",
       "      <td>5.7</td>\n",
       "      <td>1.1</td>\n",
       "      <td>NAN</td>\n",
       "      <td>NAN</td>\n",
       "      <td>546</td>\n",
       "      <td>2003</td>\n",
       "      <td>110</td>\n",
       "    </tr>\n",
       "  </tbody>\n",
       "</table>\n",
       "<p>1991 rows × 12 columns</p>\n",
       "</div>"
      ],
      "text/plain": [
       "     STATION CODE                                          LOCATIONS  \\\n",
       "0            1393               DAMANGANGA AT D/S OF MADHUBAN, DAMAN   \n",
       "1            1399  ZUARI AT D/S OF PT. WHERE KUMBARJRIA CANAL JOI...   \n",
       "2            1475                                ZUARI AT PANCHAWADI   \n",
       "3            3181                        RIVER ZUARI AT BORIM BRIDGE   \n",
       "4            3182                       RIVER ZUARI AT MARCAIM JETTY   \n",
       "...           ...                                                ...   \n",
       "1986         1330            TAMBIRAPARANI AT ARUMUGANERI, TAMILNADU   \n",
       "1987         1450  PALAR AT VANIYAMBADI WATER SUPPLY HEAD WORK, T...   \n",
       "1988         1403                 GUMTI AT U/S SOUTH TRIPURA,TRIPURA   \n",
       "1989         1404                GUMTI AT D/S SOUTH TRIPURA, TRIPURA   \n",
       "1990         1726   CHANDRAPUR, AGARTALA D/S OF HAORA RIVER, TRIPURA   \n",
       "\n",
       "            STATE  Temp D.O. (mg/l) CONDUCTIVITY (µmhos/cm) B.O.D. (mg/l)  \\\n",
       "0     DAMAN & DIU  30.6         6.7                     203           NAN   \n",
       "1             GOA  29.8         5.7                     189             2   \n",
       "2             GOA  29.5         6.3                     179           1.7   \n",
       "3             GOA  29.7         5.8                      64           3.8   \n",
       "4             GOA  29.5         5.8                      83           1.9   \n",
       "...           ...   ...         ...                     ...           ...   \n",
       "1986          NAN   NAN         7.9                     7.2           2.7   \n",
       "1987          NAN    29         7.5                     6.3           2.6   \n",
       "1988          NAN    28         7.6                     6.2           1.2   \n",
       "1989          NAN    28         7.7                     6.5           1.3   \n",
       "1990          NAN    29         7.6                     5.7           1.1   \n",
       "\n",
       "     NITRATENAN N+ NITRITENANN (mg/l) FECAL COLIFORM (MPN/100ml)  \\\n",
       "0                                 0.1                         11   \n",
       "1                                 0.2                       4953   \n",
       "2                                 0.1                       3243   \n",
       "3                                 0.5                       5382   \n",
       "4                                 0.4                       3428   \n",
       "...                               ...                        ...   \n",
       "1986                            0.518                      0.518   \n",
       "1987                            0.155                      0.155   \n",
       "1988                              NAN                        NAN   \n",
       "1989                              NAN                        NAN   \n",
       "1990                              NAN                        NAN   \n",
       "\n",
       "     TOTAL COLIFORM (MPN/100ml)Mean  year   PH  \n",
       "0                                27  2014  7.5  \n",
       "1                              8391  2014  7.2  \n",
       "2                              5330  2014  6.9  \n",
       "3                              8443  2014  6.9  \n",
       "4                              5500  2014  7.3  \n",
       "...                             ...   ...  ...  \n",
       "1986                            202  2003  738  \n",
       "1987                            315  2003  585  \n",
       "1988                            570  2003   98  \n",
       "1989                            562  2003   91  \n",
       "1990                            546  2003  110  \n",
       "\n",
       "[1991 rows x 12 columns]"
      ]
     },
     "execution_count": 5,
     "metadata": {},
     "output_type": "execute_result"
    }
   ],
   "source": [
    "data"
   ]
  },
  {
   "cell_type": "code",
   "execution_count": 6,
   "metadata": {},
   "outputs": [
    {
     "data": {
      "text/plain": [
       "STATION CODE                        False\n",
       "LOCATIONS                           False\n",
       "STATE                               False\n",
       "Temp                                False\n",
       "D.O. (mg/l)                         False\n",
       "CONDUCTIVITY (µmhos/cm)             False\n",
       "B.O.D. (mg/l)                       False\n",
       "NITRATENAN N+ NITRITENANN (mg/l)    False\n",
       "FECAL COLIFORM (MPN/100ml)          False\n",
       "TOTAL COLIFORM (MPN/100ml)Mean      False\n",
       "year                                False\n",
       "PH                                  False\n",
       "dtype: bool"
      ]
     },
     "execution_count": 6,
     "metadata": {},
     "output_type": "execute_result"
    }
   ],
   "source": [
    "data.isnull().any() #No Missing Values"
   ]
  },
  {
   "cell_type": "code",
   "execution_count": 7,
   "metadata": {},
   "outputs": [],
   "source": [
    "data['Temp'].replace(['NAN'],[28],inplace=True)"
   ]
  },
  {
   "cell_type": "code",
   "execution_count": 8,
   "metadata": {},
   "outputs": [
    {
     "data": {
      "text/plain": [
       "0    6.8\n",
       "dtype: object"
      ]
     },
     "execution_count": 8,
     "metadata": {},
     "output_type": "execute_result"
    }
   ],
   "source": [
    "data['D.O. (mg/l)'].mode()"
   ]
  },
  {
   "cell_type": "code",
   "execution_count": 9,
   "metadata": {},
   "outputs": [],
   "source": [
    "data['D.O. (mg/l)'].replace(['NAN'],[6.8],inplace=True)"
   ]
  },
  {
   "cell_type": "code",
   "execution_count": 10,
   "metadata": {},
   "outputs": [
    {
     "data": {
      "text/plain": [
       "0    7.2\n",
       "dtype: object"
      ]
     },
     "execution_count": 10,
     "metadata": {},
     "output_type": "execute_result"
    }
   ],
   "source": [
    "data['PH'].mode()\n"
   ]
  },
  {
   "cell_type": "code",
   "execution_count": 11,
   "metadata": {},
   "outputs": [],
   "source": [
    "data['PH'].replace(['NAN'],[7.2],inplace=True)"
   ]
  },
  {
   "cell_type": "code",
   "execution_count": 12,
   "metadata": {},
   "outputs": [
    {
     "data": {
      "text/plain": [
       "0    1.5\n",
       "dtype: object"
      ]
     },
     "execution_count": 12,
     "metadata": {},
     "output_type": "execute_result"
    }
   ],
   "source": [
    "data['B.O.D. (mg/l)'].mode()"
   ]
  },
  {
   "cell_type": "code",
   "execution_count": 13,
   "metadata": {},
   "outputs": [],
   "source": [
    "data['B.O.D. (mg/l)'].replace(['NAN'],[1.5],inplace=True)"
   ]
  },
  {
   "cell_type": "code",
   "execution_count": 14,
   "metadata": {},
   "outputs": [
    {
     "data": {
      "text/plain": [
       "<matplotlib.axes._subplots.AxesSubplot at 0x1a4e1eee408>"
      ]
     },
     "execution_count": 14,
     "metadata": {},
     "output_type": "execute_result"
    },
    {
     "data": {
      "image/png": "[encoded data removed]",
      "text/plain": [
       "<Figure size 432x288 with 1 Axes>"
      ]
     },
     "metadata": {
      "needs_background": "light"
     },
     "output_type": "display_data"
    }
   ],
   "source": [
    "#Data Visualization\n",
    "data.boxplot(column='year')"
   ]
  },
  {
   "cell_type": "code",
   "execution_count": 20,
   "metadata": {},
   "outputs": [
    {
     "data": {
      "text/plain": [
       "array([[<matplotlib.axes._subplots.AxesSubplot object at 0x000001A4850C9308>,\n",
       "        <matplotlib.axes._subplots.AxesSubplot object at 0x000001A48533AB88>,\n",
       "        <matplotlib.axes._subplots.AxesSubplot object at 0x000001A48550E848>,\n",
       "        <matplotlib.axes._subplots.AxesSubplot object at 0x000001A4856A4488>,\n",
       "        <matplotlib.axes._subplots.AxesSubplot object at 0x000001A4838FCCC8>,\n",
       "        <matplotlib.axes._subplots.AxesSubplot object at 0x000001A485AEAF08>,\n",
       "        <matplotlib.axes._subplots.AxesSubplot object at 0x000001A485C5F1C8>,\n",
       "        <matplotlib.axes._subplots.AxesSubplot object at 0x000001A485E42988>,\n",
       "        <matplotlib.axes._subplots.AxesSubplot object at 0x000001A485E5DCC8>,\n",
       "        <matplotlib.axes._subplots.AxesSubplot object at 0x000001A487ACB108>,\n",
       "        <matplotlib.axes._subplots.AxesSubplot object at 0x000001A487F10588>,\n",
       "        <matplotlib.axes._subplots.AxesSubplot object at 0x000001A487A3F608>,\n",
       "        <matplotlib.axes._subplots.AxesSubplot object at 0x000001A4889583C8>],\n",
       "       [<matplotlib.axes._subplots.AxesSubplot object at 0x000001A488503A48>,\n",
       "        <matplotlib.axes._subplots.AxesSubplot object at 0x000001A487B87D08>,\n",
       "        <matplotlib.axes._subplots.AxesSubplot object at 0x000001A487B39C48>,\n",
       "        <matplotlib.axes._subplots.AxesSubplot object at 0x000001A487643D08>,\n",
       "        <matplotlib.axes._subplots.AxesSubplot object at 0x000001A487A56E08>,\n",
       "        <matplotlib.axes._subplots.AxesSubplot object at 0x000001A4879E5F08>,\n",
       "        <matplotlib.axes._subplots.AxesSubplot object at 0x000001A4876B5088>,\n",
       "        <matplotlib.axes._subplots.AxesSubplot object at 0x000001A4878911C8>,\n",
       "        <matplotlib.axes._subplots.AxesSubplot object at 0x000001A48782A248>,\n",
       "        <matplotlib.axes._subplots.AxesSubplot object at 0x000001A487752348>,\n",
       "        <matplotlib.axes._subplots.AxesSubplot object at 0x000001A4876E3488>,\n",
       "        <matplotlib.axes._subplots.AxesSubplot object at 0x000001A487501588>,\n",
       "        <matplotlib.axes._subplots.AxesSubplot object at 0x000001A4877C8E88>],\n",
       "       [<matplotlib.axes._subplots.AxesSubplot object at 0x000001A4877FE7C8>,\n",
       "        <matplotlib.axes._subplots.AxesSubplot object at 0x000001A487521848>,\n",
       "        <matplotlib.axes._subplots.AxesSubplot object at 0x000001A487B0E948>,\n",
       "        <matplotlib.axes._subplots.AxesSubplot object at 0x000001A4879BDA88>,\n",
       "        <matplotlib.axes._subplots.AxesSubplot object at 0x000001A487960B88>,\n",
       "        <matplotlib.axes._subplots.AxesSubplot object at 0x000001A4878FEC88>,\n",
       "        <matplotlib.axes._subplots.AxesSubplot object at 0x000001A487671D88>,\n",
       "        <matplotlib.axes._subplots.AxesSubplot object at 0x000001A488977E88>,\n",
       "        <matplotlib.axes._subplots.AxesSubplot object at 0x000001A48898FF88>,\n",
       "        <matplotlib.axes._subplots.AxesSubplot object at 0x000001A489978108>,\n",
       "        <matplotlib.axes._subplots.AxesSubplot object at 0x000001A48998F208>,\n",
       "        <matplotlib.axes._subplots.AxesSubplot object at 0x000001A4899A62C8>,\n",
       "        <matplotlib.axes._subplots.AxesSubplot object at 0x000001A4899BD408>],\n",
       "       [<matplotlib.axes._subplots.AxesSubplot object at 0x000001A4899D4508>,\n",
       "        <matplotlib.axes._subplots.AxesSubplot object at 0x000001A4899EB608>,\n",
       "        <matplotlib.axes._subplots.AxesSubplot object at 0x000001A489A02748>,\n",
       "        <matplotlib.axes._subplots.AxesSubplot object at 0x000001A489A197C8>,\n",
       "        <matplotlib.axes._subplots.AxesSubplot object at 0x000001A489A318C8>,\n",
       "        <matplotlib.axes._subplots.AxesSubplot object at 0x000001A489A489C8>,\n",
       "        <matplotlib.axes._subplots.AxesSubplot object at 0x000001A489A60B08>,\n",
       "        <matplotlib.axes._subplots.AxesSubplot object at 0x000001A489A77C08>,\n",
       "        <matplotlib.axes._subplots.AxesSubplot object at 0x000001A489A8ECC8>,\n",
       "        <matplotlib.axes._subplots.AxesSubplot object at 0x000001A489AA5E08>,\n",
       "        <matplotlib.axes._subplots.AxesSubplot object at 0x000001A489ABDF08>,\n",
       "        <matplotlib.axes._subplots.AxesSubplot object at 0x000001A489AD6048>,\n",
       "        <matplotlib.axes._subplots.AxesSubplot object at 0x000001A489AED188>],\n",
       "       [<matplotlib.axes._subplots.AxesSubplot object at 0x000001A489B05288>,\n",
       "        <matplotlib.axes._subplots.AxesSubplot object at 0x000001A489B1C308>,\n",
       "        <matplotlib.axes._subplots.AxesSubplot object at 0x000001A489B33448>,\n",
       "        <matplotlib.axes._subplots.AxesSubplot object at 0x000001A489B4A548>,\n",
       "        <matplotlib.axes._subplots.AxesSubplot object at 0x000001A489B62E48>,\n",
       "        <matplotlib.axes._subplots.AxesSubplot object at 0x000001A489B78788>,\n",
       "        <matplotlib.axes._subplots.AxesSubplot object at 0x000001A489B91808>,\n",
       "        <matplotlib.axes._subplots.AxesSubplot object at 0x000001A489BA7908>,\n",
       "        <matplotlib.axes._subplots.AxesSubplot object at 0x000001A489BBDA48>,\n",
       "        <matplotlib.axes._subplots.AxesSubplot object at 0x000001A489BD5B48>,\n",
       "        <matplotlib.axes._subplots.AxesSubplot object at 0x000001A489BECC48>,\n",
       "        <matplotlib.axes._subplots.AxesSubplot object at 0x000001A489C03D08>,\n",
       "        <matplotlib.axes._subplots.AxesSubplot object at 0x000001A489C19E48>],\n",
       "       [<matplotlib.axes._subplots.AxesSubplot object at 0x000001A489C32F48>,\n",
       "        <matplotlib.axes._subplots.AxesSubplot object at 0x000001A489C4C088>,\n",
       "        <matplotlib.axes._subplots.AxesSubplot object at 0x000001A489C621C8>,\n",
       "        <matplotlib.axes._subplots.AxesSubplot object at 0x000001A489C79248>,\n",
       "        <matplotlib.axes._subplots.AxesSubplot object at 0x000001A489C90348>,\n",
       "        <matplotlib.axes._subplots.AxesSubplot object at 0x000001A489CA8488>,\n",
       "        <matplotlib.axes._subplots.AxesSubplot object at 0x000001A489CBF588>,\n",
       "        <matplotlib.axes._subplots.AxesSubplot object at 0x000001A489CDAE88>,\n",
       "        <matplotlib.axes._subplots.AxesSubplot object at 0x000001A489CED748>,\n",
       "        <matplotlib.axes._subplots.AxesSubplot object at 0x000001A489D0C848>,\n",
       "        <matplotlib.axes._subplots.AxesSubplot object at 0x000001A489D2F948>,\n",
       "        <matplotlib.axes._subplots.AxesSubplot object at 0x000001A489D52A88>,\n",
       "        <matplotlib.axes._subplots.AxesSubplot object at 0x000001A489D73B88>],\n",
       "       [<matplotlib.axes._subplots.AxesSubplot object at 0x000001A489D96C48>,\n",
       "        <matplotlib.axes._subplots.AxesSubplot object at 0x000001A489DBAD88>,\n",
       "        <matplotlib.axes._subplots.AxesSubplot object at 0x000001A489DDDE88>,\n",
       "        <matplotlib.axes._subplots.AxesSubplot object at 0x000001A489E00F88>,\n",
       "        <matplotlib.axes._subplots.AxesSubplot object at 0x000001A489E28108>,\n",
       "        <matplotlib.axes._subplots.AxesSubplot object at 0x000001A489E4A208>,\n",
       "        <matplotlib.axes._subplots.AxesSubplot object at 0x000001A489E6D288>,\n",
       "        <matplotlib.axes._subplots.AxesSubplot object at 0x000001A489E90388>,\n",
       "        <matplotlib.axes._subplots.AxesSubplot object at 0x000001A489EB34C8>,\n",
       "        <matplotlib.axes._subplots.AxesSubplot object at 0x000001A489ED65C8>,\n",
       "        <matplotlib.axes._subplots.AxesSubplot object at 0x000001A489EF96C8>,\n",
       "        <matplotlib.axes._subplots.AxesSubplot object at 0x000001A489F1C7C8>,\n",
       "        <matplotlib.axes._subplots.AxesSubplot object at 0x000001A489F4F8C8>],\n",
       "       [<matplotlib.axes._subplots.AxesSubplot object at 0x000001A489F879C8>,\n",
       "        <matplotlib.axes._subplots.AxesSubplot object at 0x000001A489FC0B08>,\n",
       "        <matplotlib.axes._subplots.AxesSubplot object at 0x000001A489FF8C08>,\n",
       "        <matplotlib.axes._subplots.AxesSubplot object at 0x000001A48A031CC8>,\n",
       "        <matplotlib.axes._subplots.AxesSubplot object at 0x000001A48A06AE08>,\n",
       "        <matplotlib.axes._subplots.AxesSubplot object at 0x000001A48A0A3F08>,\n",
       "        <matplotlib.axes._subplots.AxesSubplot object at 0x000001A48A0E2048>,\n",
       "        <matplotlib.axes._subplots.AxesSubplot object at 0x000001A48A119188>,\n",
       "        <matplotlib.axes._subplots.AxesSubplot object at 0x000001A48A152208>,\n",
       "        <matplotlib.axes._subplots.AxesSubplot object at 0x000001A48A18A308>,\n",
       "        <matplotlib.axes._subplots.AxesSubplot object at 0x000001A48A1C3448>,\n",
       "        <matplotlib.axes._subplots.AxesSubplot object at 0x000001A48A1FC548>,\n",
       "        <matplotlib.axes._subplots.AxesSubplot object at 0x000001A48A23AE48>],\n",
       "       [<matplotlib.axes._subplots.AxesSubplot object at 0x000001A48A26C708>,\n",
       "        <matplotlib.axes._subplots.AxesSubplot object at 0x000001A48A2A5848>,\n",
       "        <matplotlib.axes._subplots.AxesSubplot object at 0x000001A48A2DF948>,\n",
       "        <matplotlib.axes._subplots.AxesSubplot object at 0x000001A48A317A48>,\n",
       "        <matplotlib.axes._subplots.AxesSubplot object at 0x000001A48A34FB88>,\n",
       "        <matplotlib.axes._subplots.AxesSubplot object at 0x000001A48A388C88>,\n",
       "        <matplotlib.axes._subplots.AxesSubplot object at 0x000001A48A3C0D08>,\n",
       "        <matplotlib.axes._subplots.AxesSubplot object at 0x000001A48A3F9E48>,\n",
       "        <matplotlib.axes._subplots.AxesSubplot object at 0x000001A48A433F48>,\n",
       "        <matplotlib.axes._subplots.AxesSubplot object at 0x000001A48A470088>,\n",
       "        <matplotlib.axes._subplots.AxesSubplot object at 0x000001A48A4A91C8>,\n",
       "        <matplotlib.axes._subplots.AxesSubplot object at 0x000001A48A4E2248>,\n",
       "        <matplotlib.axes._subplots.AxesSubplot object at 0x000001A48A51B348>],\n",
       "       [<matplotlib.axes._subplots.AxesSubplot object at 0x000001A48A553488>,\n",
       "        <matplotlib.axes._subplots.AxesSubplot object at 0x000001A48A58B588>,\n",
       "        <matplotlib.axes._subplots.AxesSubplot object at 0x000001A48A5C9E88>,\n",
       "        <matplotlib.axes._subplots.AxesSubplot object at 0x000001A48A5FC788>,\n",
       "        <matplotlib.axes._subplots.AxesSubplot object at 0x000001A48A634888>,\n",
       "        <matplotlib.axes._subplots.AxesSubplot object at 0x000001A48A66E988>,\n",
       "        <matplotlib.axes._subplots.AxesSubplot object at 0x000001A48A6A8A88>,\n",
       "        <matplotlib.axes._subplots.AxesSubplot object at 0x000001A48A6E1BC8>,\n",
       "        <matplotlib.axes._subplots.AxesSubplot object at 0x000001A48A719C88>,\n",
       "        <matplotlib.axes._subplots.AxesSubplot object at 0x000001A48A752D88>,\n",
       "        <matplotlib.axes._subplots.AxesSubplot object at 0x000001A48A78BEC8>,\n",
       "        <matplotlib.axes._subplots.AxesSubplot object at 0x000001A48A7C3FC8>,\n",
       "        <matplotlib.axes._subplots.AxesSubplot object at 0x000001A48A7FF108>],\n",
       "       [<matplotlib.axes._subplots.AxesSubplot object at 0x000001A48A8371C8>,\n",
       "        <matplotlib.axes._subplots.AxesSubplot object at 0x000001A48A8712C8>,\n",
       "        <matplotlib.axes._subplots.AxesSubplot object at 0x000001A48A8A93C8>,\n",
       "        <matplotlib.axes._subplots.AxesSubplot object at 0x000001A48A8E3508>,\n",
       "        <matplotlib.axes._subplots.AxesSubplot object at 0x000001A48A91C608>,\n",
       "        <matplotlib.axes._subplots.AxesSubplot object at 0x000001A48A9536C8>,\n",
       "        <matplotlib.axes._subplots.AxesSubplot object at 0x000001A48A98D808>,\n",
       "        <matplotlib.axes._subplots.AxesSubplot object at 0x000001A48A9C6908>,\n",
       "        <matplotlib.axes._subplots.AxesSubplot object at 0x000001A48A9FFA08>,\n",
       "        <matplotlib.axes._subplots.AxesSubplot object at 0x000001A48AA36B48>,\n",
       "        <matplotlib.axes._subplots.AxesSubplot object at 0x000001A48AA6FC48>,\n",
       "        <matplotlib.axes._subplots.AxesSubplot object at 0x000001A48AAA8CC8>,\n",
       "        <matplotlib.axes._subplots.AxesSubplot object at 0x000001A48AAE1E08>],\n",
       "       [<matplotlib.axes._subplots.AxesSubplot object at 0x000001A48AB1BF08>,\n",
       "        <matplotlib.axes._subplots.AxesSubplot object at 0x000001A48AB57048>,\n",
       "        <matplotlib.axes._subplots.AxesSubplot object at 0x000001A48AB8F148>,\n",
       "        <matplotlib.axes._subplots.AxesSubplot object at 0x000001A48ABC8248>,\n",
       "        <matplotlib.axes._subplots.AxesSubplot object at 0x000001A48AC00348>,\n",
       "        <matplotlib.axes._subplots.AxesSubplot object at 0x000001A48AC39448>,\n",
       "        <matplotlib.axes._subplots.AxesSubplot object at 0x000001A48AC74588>,\n",
       "        <matplotlib.axes._subplots.AxesSubplot object at 0x000001A48ACB0E88>,\n",
       "        <matplotlib.axes._subplots.AxesSubplot object at 0x000001A48ACE5748>,\n",
       "        <matplotlib.axes._subplots.AxesSubplot object at 0x000001A48AD1E888>,\n",
       "        <matplotlib.axes._subplots.AxesSubplot object at 0x000001A48AD56988>,\n",
       "        <matplotlib.axes._subplots.AxesSubplot object at 0x000001A48AD8FA88>,\n",
       "        <matplotlib.axes._subplots.AxesSubplot object at 0x000001A48ADC6BC8>],\n",
       "       [<matplotlib.axes._subplots.AxesSubplot object at 0x000001A48ADFEC48>,\n",
       "        <matplotlib.axes._subplots.AxesSubplot object at 0x000001A48AE36D48>,\n",
       "        <matplotlib.axes._subplots.AxesSubplot object at 0x000001A48AE6FE88>,\n",
       "        <matplotlib.axes._subplots.AxesSubplot object at 0x000001A48AEA6F88>,\n",
       "        <matplotlib.axes._subplots.AxesSubplot object at 0x000001A48AEE70C8>,\n",
       "        <matplotlib.axes._subplots.AxesSubplot object at 0x000001A48AF1F188>,\n",
       "        <matplotlib.axes._subplots.AxesSubplot object at 0x000001A48AF58288>,\n",
       "        <matplotlib.axes._subplots.AxesSubplot object at 0x000001A48AF90388>,\n",
       "        <matplotlib.axes._subplots.AxesSubplot object at 0x000001A48AFCA488>,\n",
       "        <matplotlib.axes._subplots.AxesSubplot object at 0x000001A48B0025C8>,\n",
       "        <matplotlib.axes._subplots.AxesSubplot object at 0x000001A48B03FE88>,\n",
       "        <matplotlib.axes._subplots.AxesSubplot object at 0x000001A48B073848>,\n",
       "        <matplotlib.axes._subplots.AxesSubplot object at 0x000001A48B0AB988>],\n",
       "       [<matplotlib.axes._subplots.AxesSubplot object at 0x000001A48B0E3B08>,\n",
       "        <matplotlib.axes._subplots.AxesSubplot object at 0x000001A48B11AC48>,\n",
       "        <matplotlib.axes._subplots.AxesSubplot object at 0x000001A48B153D88>,\n",
       "        <matplotlib.axes._subplots.AxesSubplot object at 0x000001A48B18AE88>,\n",
       "        <matplotlib.axes._subplots.AxesSubplot object at 0x000001A48B1C2FC8>,\n",
       "        <matplotlib.axes._subplots.AxesSubplot object at 0x000001A48B204148>,\n",
       "        <matplotlib.axes._subplots.AxesSubplot object at 0x000001A48B23C2C8>,\n",
       "        <matplotlib.axes._subplots.AxesSubplot object at 0x000001A48B275408>,\n",
       "        <matplotlib.axes._subplots.AxesSubplot object at 0x000001A48B2AD548>,\n",
       "        <matplotlib.axes._subplots.AxesSubplot object at 0x000001A48B2E8688>,\n",
       "        <matplotlib.axes._subplots.AxesSubplot object at 0x000001A48B3207C8>,\n",
       "        <matplotlib.axes._subplots.AxesSubplot object at 0x000001A48B359908>,\n",
       "        <matplotlib.axes._subplots.AxesSubplot object at 0x000001A48B38FB48>]],\n",
       "      dtype=object)"
      ]
     },
     "execution_count": 20,
     "metadata": {},
     "output_type": "execute_result"
    },
    {
     "data": {
      "image/png": "[encoded data removed]",
      "text/plain": [
       "<Figure size 432x288 with 182 Axes>"
      ]
     },
     "metadata": {
      "needs_background": "light"
     },
     "output_type": "display_data"
    }
   ],
   "source": [
    "data.hist(column=\"PH\",by=\"Temp\",bins=5)"
   ]
  },
  {
   "cell_type": "code",
   "execution_count": 22,
   "metadata": {},
   "outputs": [
    {
     "data": {
      "text/plain": [
       "<matplotlib.axes._subplots.AxesSubplot at 0x1a48c0e6208>"
      ]
     },
     "execution_count": 22,
     "metadata": {},
     "output_type": "execute_result"
    },
    {
     "data": {
      "image/png": "[encoded data removed]",
      "text/plain": [
       "<Figure size 432x288 with 1 Axes>"
      ]
     },
     "metadata": {
      "needs_background": "light"
     },
     "output_type": "display_data"
    }
   ],
   "source": [
    "data.boxplot(column='PH',by='Temp')"
   ]
  },
  {
   "cell_type": "code",
   "execution_count": 23,
   "metadata": {},
   "outputs": [
    {
     "data": {
      "text/html": [
       "<div>\n",
       "<style scoped>\n",
       "    .dataframe tbody tr th:only-of-type {\n",
       "        vertical-align: middle;\n",
       "    }\n",
       "\n",
       "    .dataframe tbody tr th {\n",
       "        vertical-align: top;\n",
       "    }\n",
       "\n",
       "    .dataframe thead th {\n",
       "        text-align: right;\n",
       "    }\n",
       "</style>\n",
       "<table border=\"1\" class=\"dataframe\">\n",
       "  <thead>\n",
       "    <tr style=\"text-align: right;\">\n",
       "      <th></th>\n",
       "      <th>D.O. (mg/l)</th>\n",
       "      <th>year</th>\n",
       "      <th>PH</th>\n",
       "    </tr>\n",
       "  </thead>\n",
       "  <tbody>\n",
       "    <tr>\n",
       "      <th>D.O. (mg/l)</th>\n",
       "      <td>1.000000</td>\n",
       "      <td>-0.069215</td>\n",
       "      <td>0.034531</td>\n",
       "    </tr>\n",
       "    <tr>\n",
       "      <th>year</th>\n",
       "      <td>-0.069215</td>\n",
       "      <td>1.000000</td>\n",
       "      <td>-0.128221</td>\n",
       "    </tr>\n",
       "    <tr>\n",
       "      <th>PH</th>\n",
       "      <td>0.034531</td>\n",
       "      <td>-0.128221</td>\n",
       "      <td>1.000000</td>\n",
       "    </tr>\n",
       "  </tbody>\n",
       "</table>\n",
       "</div>"
      ],
      "text/plain": [
       "             D.O. (mg/l)      year        PH\n",
       "D.O. (mg/l)     1.000000 -0.069215  0.034531\n",
       "year           -0.069215  1.000000 -0.128221\n",
       "PH              0.034531 -0.128221  1.000000"
      ]
     },
     "execution_count": 23,
     "metadata": {},
     "output_type": "execute_result"
    }
   ],
   "source": [
    "data.corr()"
   ]
  },
  {
   "cell_type": "code",
   "execution_count": 34,
   "metadata": {},
   "outputs": [],
   "source": [
    "from sklearn.preprocessing import LabelEncoder\n",
    "lb=LabelEncoder()\n",
    "data['LOCATIONS']=lb.fit_transform(data['LOCATIONS'])"
   ]
  },
  {
   "cell_type": "code",
   "execution_count": 36,
   "metadata": {},
   "outputs": [],
   "source": [
    "data['STATE']=lb.fit_transform(data['STATE'])"
   ]
  },
  {
   "cell_type": "code",
   "execution_count": 37,
   "metadata": {},
   "outputs": [
    {
     "data": {
      "text/html": [
       "<div>\n",
       "<style scoped>\n",
       "    .dataframe tbody tr th:only-of-type {\n",
       "        vertical-align: middle;\n",
       "    }\n",
       "\n",
       "    .dataframe tbody tr th {\n",
       "        vertical-align: top;\n",
       "    }\n",
       "\n",
       "    .dataframe thead th {\n",
       "        text-align: right;\n",
       "    }\n",
       "</style>\n",
       "<table border=\"1\" class=\"dataframe\">\n",
       "  <thead>\n",
       "    <tr style=\"text-align: right;\">\n",
       "      <th></th>\n",
       "      <th>STATION CODE</th>\n",
       "      <th>LOCATIONS</th>\n",
       "      <th>STATE</th>\n",
       "      <th>Temp</th>\n",
       "      <th>D.O. (mg/l)</th>\n",
       "      <th>CONDUCTIVITY (µmhos/cm)</th>\n",
       "      <th>B.O.D. (mg/l)</th>\n",
       "      <th>NITRATENAN N+ NITRITENANN (mg/l)</th>\n",
       "      <th>FECAL COLIFORM (MPN/100ml)</th>\n",
       "      <th>TOTAL COLIFORM (MPN/100ml)Mean</th>\n",
       "      <th>year</th>\n",
       "      <th>PH</th>\n",
       "    </tr>\n",
       "  </thead>\n",
       "  <tbody>\n",
       "    <tr>\n",
       "      <th>0</th>\n",
       "      <td>1393</td>\n",
       "      <td>83</td>\n",
       "      <td>21</td>\n",
       "      <td>30.6</td>\n",
       "      <td>6.7</td>\n",
       "      <td>203</td>\n",
       "      <td>1.5</td>\n",
       "      <td>0.1</td>\n",
       "      <td>11</td>\n",
       "      <td>27</td>\n",
       "      <td>2014</td>\n",
       "      <td>7.5</td>\n",
       "    </tr>\n",
       "    <tr>\n",
       "      <th>1</th>\n",
       "      <td>1399</td>\n",
       "      <td>664</td>\n",
       "      <td>51</td>\n",
       "      <td>29.8</td>\n",
       "      <td>5.7</td>\n",
       "      <td>189</td>\n",
       "      <td>2</td>\n",
       "      <td>0.2</td>\n",
       "      <td>4953</td>\n",
       "      <td>8391</td>\n",
       "      <td>2014</td>\n",
       "      <td>7.2</td>\n",
       "    </tr>\n",
       "    <tr>\n",
       "      <th>2</th>\n",
       "      <td>1475</td>\n",
       "      <td>665</td>\n",
       "      <td>51</td>\n",
       "      <td>29.5</td>\n",
       "      <td>6.3</td>\n",
       "      <td>179</td>\n",
       "      <td>1.7</td>\n",
       "      <td>0.1</td>\n",
       "      <td>3243</td>\n",
       "      <td>5330</td>\n",
       "      <td>2014</td>\n",
       "      <td>6.9</td>\n",
       "    </tr>\n",
       "    <tr>\n",
       "      <th>3</th>\n",
       "      <td>3181</td>\n",
       "      <td>495</td>\n",
       "      <td>51</td>\n",
       "      <td>29.7</td>\n",
       "      <td>5.8</td>\n",
       "      <td>64</td>\n",
       "      <td>3.8</td>\n",
       "      <td>0.5</td>\n",
       "      <td>5382</td>\n",
       "      <td>8443</td>\n",
       "      <td>2014</td>\n",
       "      <td>6.9</td>\n",
       "    </tr>\n",
       "    <tr>\n",
       "      <th>4</th>\n",
       "      <td>3182</td>\n",
       "      <td>496</td>\n",
       "      <td>51</td>\n",
       "      <td>29.5</td>\n",
       "      <td>5.8</td>\n",
       "      <td>83</td>\n",
       "      <td>1.9</td>\n",
       "      <td>0.4</td>\n",
       "      <td>3428</td>\n",
       "      <td>5500</td>\n",
       "      <td>2014</td>\n",
       "      <td>7.3</td>\n",
       "    </tr>\n",
       "    <tr>\n",
       "      <th>...</th>\n",
       "      <td>...</td>\n",
       "      <td>...</td>\n",
       "      <td>...</td>\n",
       "      <td>...</td>\n",
       "      <td>...</td>\n",
       "      <td>...</td>\n",
       "      <td>...</td>\n",
       "      <td>...</td>\n",
       "      <td>...</td>\n",
       "      <td>...</td>\n",
       "      <td>...</td>\n",
       "      <td>...</td>\n",
       "    </tr>\n",
       "    <tr>\n",
       "      <th>1986</th>\n",
       "      <td>1330</td>\n",
       "      <td>537</td>\n",
       "      <td>101</td>\n",
       "      <td>28</td>\n",
       "      <td>7.9</td>\n",
       "      <td>7.2</td>\n",
       "      <td>2.7</td>\n",
       "      <td>0.518</td>\n",
       "      <td>0.518</td>\n",
       "      <td>202</td>\n",
       "      <td>2003</td>\n",
       "      <td>738.0</td>\n",
       "    </tr>\n",
       "    <tr>\n",
       "      <th>1987</th>\n",
       "      <td>1450</td>\n",
       "      <td>345</td>\n",
       "      <td>101</td>\n",
       "      <td>29</td>\n",
       "      <td>7.5</td>\n",
       "      <td>6.3</td>\n",
       "      <td>2.6</td>\n",
       "      <td>0.155</td>\n",
       "      <td>0.155</td>\n",
       "      <td>315</td>\n",
       "      <td>2003</td>\n",
       "      <td>585.0</td>\n",
       "    </tr>\n",
       "    <tr>\n",
       "      <th>1988</th>\n",
       "      <td>1403</td>\n",
       "      <td>154</td>\n",
       "      <td>101</td>\n",
       "      <td>28</td>\n",
       "      <td>7.6</td>\n",
       "      <td>6.2</td>\n",
       "      <td>1.2</td>\n",
       "      <td>NAN</td>\n",
       "      <td>NAN</td>\n",
       "      <td>570</td>\n",
       "      <td>2003</td>\n",
       "      <td>98.0</td>\n",
       "    </tr>\n",
       "    <tr>\n",
       "      <th>1989</th>\n",
       "      <td>1404</td>\n",
       "      <td>151</td>\n",
       "      <td>101</td>\n",
       "      <td>28</td>\n",
       "      <td>7.7</td>\n",
       "      <td>6.5</td>\n",
       "      <td>1.3</td>\n",
       "      <td>NAN</td>\n",
       "      <td>NAN</td>\n",
       "      <td>562</td>\n",
       "      <td>2003</td>\n",
       "      <td>91.0</td>\n",
       "    </tr>\n",
       "    <tr>\n",
       "      <th>1990</th>\n",
       "      <td>1726</td>\n",
       "      <td>67</td>\n",
       "      <td>101</td>\n",
       "      <td>29</td>\n",
       "      <td>7.6</td>\n",
       "      <td>5.7</td>\n",
       "      <td>1.1</td>\n",
       "      <td>NAN</td>\n",
       "      <td>NAN</td>\n",
       "      <td>546</td>\n",
       "      <td>2003</td>\n",
       "      <td>110.0</td>\n",
       "    </tr>\n",
       "  </tbody>\n",
       "</table>\n",
       "<p>1991 rows × 12 columns</p>\n",
       "</div>"
      ],
      "text/plain": [
       "     STATION CODE  LOCATIONS  STATE  Temp  D.O. (mg/l)  \\\n",
       "0            1393         83     21  30.6          6.7   \n",
       "1            1399        664     51  29.8          5.7   \n",
       "2            1475        665     51  29.5          6.3   \n",
       "3            3181        495     51  29.7          5.8   \n",
       "4            3182        496     51  29.5          5.8   \n",
       "...           ...        ...    ...   ...          ...   \n",
       "1986         1330        537    101    28          7.9   \n",
       "1987         1450        345    101    29          7.5   \n",
       "1988         1403        154    101    28          7.6   \n",
       "1989         1404        151    101    28          7.7   \n",
       "1990         1726         67    101    29          7.6   \n",
       "\n",
       "     CONDUCTIVITY (µmhos/cm) B.O.D. (mg/l) NITRATENAN N+ NITRITENANN (mg/l)  \\\n",
       "0                        203           1.5                              0.1   \n",
       "1                        189             2                              0.2   \n",
       "2                        179           1.7                              0.1   \n",
       "3                         64           3.8                              0.5   \n",
       "4                         83           1.9                              0.4   \n",
       "...                      ...           ...                              ...   \n",
       "1986                     7.2           2.7                            0.518   \n",
       "1987                     6.3           2.6                            0.155   \n",
       "1988                     6.2           1.2                              NAN   \n",
       "1989                     6.5           1.3                              NAN   \n",
       "1990                     5.7           1.1                              NAN   \n",
       "\n",
       "     FECAL COLIFORM (MPN/100ml) TOTAL COLIFORM (MPN/100ml)Mean  year     PH  \n",
       "0                            11                             27  2014    7.5  \n",
       "1                          4953                           8391  2014    7.2  \n",
       "2                          3243                           5330  2014    6.9  \n",
       "3                          5382                           8443  2014    6.9  \n",
       "4                          3428                           5500  2014    7.3  \n",
       "...                         ...                            ...   ...    ...  \n",
       "1986                      0.518                            202  2003  738.0  \n",
       "1987                      0.155                            315  2003  585.0  \n",
       "1988                        NAN                            570  2003   98.0  \n",
       "1989                        NAN                            562  2003   91.0  \n",
       "1990                        NAN                            546  2003  110.0  \n",
       "\n",
       "[1991 rows x 12 columns]"
      ]
     },
     "execution_count": 37,
     "metadata": {},
     "output_type": "execute_result"
    }
   ],
   "source": [
    "data"
   ]
  },
  {
   "cell_type": "code",
   "execution_count": 79,
   "metadata": {},
   "outputs": [],
   "source": [
    "X=data.iloc[:,1:11].values\n",
    "Y=data.iloc[:,-1].values"
   ]
  },
  {
   "cell_type": "code",
   "execution_count": 80,
   "metadata": {},
   "outputs": [
    {
     "data": {
      "text/plain": [
       "array([[83, 21, '30.6', ..., '11', '27', 2014],\n",
       "       [664, 51, '29.8', ..., '4953', '8391', 2014],\n",
       "       [665, 51, '29.5', ..., '3243', '5330', 2014],\n",
       "       ...,\n",
       "       [154, 101, '28', ..., 'NAN', '570', 2003],\n",
       "       [151, 101, '28', ..., 'NAN', '562', 2003],\n",
       "       [67, 101, '29', ..., 'NAN', '546', 2003]], dtype=object)"
      ]
     },
     "execution_count": 80,
     "metadata": {},
     "output_type": "execute_result"
    }
   ],
   "source": [
    "X"
   ]
  },
  {
   "cell_type": "code",
   "execution_count": 81,
   "metadata": {},
   "outputs": [
    {
     "data": {
      "text/plain": [
       "array([  7.5,   7.2,   6.9, ...,  98. ,  91. , 110. ])"
      ]
     },
     "execution_count": 81,
     "metadata": {},
     "output_type": "execute_result"
    }
   ],
   "source": [
    "Y"
   ]
  },
  {
   "cell_type": "code",
   "execution_count": 82,
   "metadata": {},
   "outputs": [
    {
     "name": "stderr",
     "output_type": "stream",
     "text": [
      "C:\\Users\\Admin\\anaconda3\\lib\\site-packages\\sklearn\\preprocessing\\_encoders.py:415: FutureWarning: The handling of integer data will change in version 0.22. Currently, the categories are determined based on the range [0, max(values)], while in the future they will be determined based on the unique values.\n",
      "If you want the future behaviour and silence this warning, you can specify \"categories='auto'\".\n",
      "In case you used a LabelEncoder before this OneHotEncoder to convert the categories to integers, then you can now use the OneHotEncoder directly.\n",
      "  warnings.warn(msg, FutureWarning)\n",
      "C:\\Users\\Admin\\anaconda3\\lib\\site-packages\\sklearn\\preprocessing\\_encoders.py:441: DeprecationWarning: The 'categorical_features' keyword is deprecated in version 0.20 and will be removed in 0.22. The passed value of 'all' is the default and can simply be removed.\n",
      "  DeprecationWarning)\n"
     ]
    },
    {
     "ename": "ValueError",
     "evalue": "For a sparse output, all columns should be a numeric or convertible to a numeric.",
     "output_type": "error",
     "traceback": [
      "\u001b[1;31m---------------------------------------------------------------------------\u001b[0m",
      "\u001b[1;31mValueError\u001b[0m                                Traceback (most recent call last)",
      "\u001b[1;32m~\\anaconda3\\lib\\site-packages\\sklearn\\compose\\_column_transformer.py\u001b[0m in \u001b[0;36m_hstack\u001b[1;34m(self, Xs)\u001b[0m\n\u001b[0;32m    565\u001b[0m                                             force_all_finite=False)\n\u001b[1;32m--> 566\u001b[1;33m                                 for X in Xs]\n\u001b[0m\u001b[0;32m    567\u001b[0m             \u001b[1;32mexcept\u001b[0m \u001b[0mValueError\u001b[0m\u001b[1;33m:\u001b[0m\u001b[1;33m\u001b[0m\u001b[1;33m\u001b[0m\u001b[0m\n",
      "\u001b[1;32m~\\anaconda3\\lib\\site-packages\\sklearn\\compose\\_column_transformer.py\u001b[0m in \u001b[0;36m<listcomp>\u001b[1;34m(.0)\u001b[0m\n\u001b[0;32m    565\u001b[0m                                             force_all_finite=False)\n\u001b[1;32m--> 566\u001b[1;33m                                 for X in Xs]\n\u001b[0m\u001b[0;32m    567\u001b[0m             \u001b[1;32mexcept\u001b[0m \u001b[0mValueError\u001b[0m\u001b[1;33m:\u001b[0m\u001b[1;33m\u001b[0m\u001b[1;33m\u001b[0m\u001b[0m\n",
      "\u001b[1;32m~\\anaconda3\\lib\\site-packages\\sklearn\\utils\\validation.py\u001b[0m in \u001b[0;36mcheck_array\u001b[1;34m(array, accept_sparse, accept_large_sparse, dtype, order, copy, force_all_finite, ensure_2d, allow_nd, ensure_min_samples, ensure_min_features, warn_on_dtype, estimator)\u001b[0m\n\u001b[0;32m    495\u001b[0m                 \u001b[0mwarnings\u001b[0m\u001b[1;33m.\u001b[0m\u001b[0msimplefilter\u001b[0m\u001b[1;33m(\u001b[0m\u001b[1;34m'error'\u001b[0m\u001b[1;33m,\u001b[0m \u001b[0mComplexWarning\u001b[0m\u001b[1;33m)\u001b[0m\u001b[1;33m\u001b[0m\u001b[1;33m\u001b[0m\u001b[0m\n\u001b[1;32m--> 496\u001b[1;33m                 \u001b[0marray\u001b[0m \u001b[1;33m=\u001b[0m \u001b[0mnp\u001b[0m\u001b[1;33m.\u001b[0m\u001b[0masarray\u001b[0m\u001b[1;33m(\u001b[0m\u001b[0marray\u001b[0m\u001b[1;33m,\u001b[0m \u001b[0mdtype\u001b[0m\u001b[1;33m=\u001b[0m\u001b[0mdtype\u001b[0m\u001b[1;33m,\u001b[0m \u001b[0morder\u001b[0m\u001b[1;33m=\u001b[0m\u001b[0morder\u001b[0m\u001b[1;33m)\u001b[0m\u001b[1;33m\u001b[0m\u001b[1;33m\u001b[0m\u001b[0m\n\u001b[0m\u001b[0;32m    497\u001b[0m             \u001b[1;32mexcept\u001b[0m \u001b[0mComplexWarning\u001b[0m\u001b[1;33m:\u001b[0m\u001b[1;33m\u001b[0m\u001b[1;33m\u001b[0m\u001b[0m\n",
      "\u001b[1;32m~\\anaconda3\\lib\\site-packages\\numpy\\core\\_asarray.py\u001b[0m in \u001b[0;36masarray\u001b[1;34m(a, dtype, order)\u001b[0m\n\u001b[0;32m     84\u001b[0m     \"\"\"\n\u001b[1;32m---> 85\u001b[1;33m     \u001b[1;32mreturn\u001b[0m \u001b[0marray\u001b[0m\u001b[1;33m(\u001b[0m\u001b[0ma\u001b[0m\u001b[1;33m,\u001b[0m \u001b[0mdtype\u001b[0m\u001b[1;33m,\u001b[0m \u001b[0mcopy\u001b[0m\u001b[1;33m=\u001b[0m\u001b[1;32mFalse\u001b[0m\u001b[1;33m,\u001b[0m \u001b[0morder\u001b[0m\u001b[1;33m=\u001b[0m\u001b[0morder\u001b[0m\u001b[1;33m)\u001b[0m\u001b[1;33m\u001b[0m\u001b[1;33m\u001b[0m\u001b[0m\n\u001b[0m\u001b[0;32m     86\u001b[0m \u001b[1;33m\u001b[0m\u001b[0m\n",
      "\u001b[1;31mValueError\u001b[0m: could not convert string to float: ",
      "\nDuring handling of the above exception, another exception occurred:\n",
      "\u001b[1;31mValueError\u001b[0m                                Traceback (most recent call last)",
      "\u001b[1;32m<ipython-input-82-2829ee515cbe>\u001b[0m in \u001b[0;36m<module>\u001b[1;34m\u001b[0m\n\u001b[0;32m      2\u001b[0m \u001b[1;32mfrom\u001b[0m \u001b[0msklearn\u001b[0m\u001b[1;33m.\u001b[0m\u001b[0mcompose\u001b[0m \u001b[1;32mimport\u001b[0m \u001b[0mColumnTransformer\u001b[0m\u001b[1;33m\u001b[0m\u001b[1;33m\u001b[0m\u001b[0m\n\u001b[0;32m      3\u001b[0m \u001b[0mohe\u001b[0m \u001b[1;33m=\u001b[0m \u001b[0mColumnTransformer\u001b[0m\u001b[1;33m(\u001b[0m\u001b[1;33m[\u001b[0m\u001b[1;33m(\u001b[0m\u001b[1;34m'encoder'\u001b[0m\u001b[1;33m,\u001b[0m \u001b[0mOneHotEncoder\u001b[0m\u001b[1;33m(\u001b[0m\u001b[0mcategorical_features\u001b[0m\u001b[1;33m=\u001b[0m\u001b[1;34m'all'\u001b[0m\u001b[1;33m,\u001b[0m\u001b[0msparse\u001b[0m\u001b[1;33m=\u001b[0m\u001b[1;32mTrue\u001b[0m\u001b[1;33m)\u001b[0m\u001b[1;33m,\u001b[0m \u001b[1;33m[\u001b[0m\u001b[1;36m0\u001b[0m\u001b[1;33m]\u001b[0m\u001b[1;33m)\u001b[0m\u001b[1;33m]\u001b[0m\u001b[1;33m,\u001b[0m \u001b[0mremainder\u001b[0m\u001b[1;33m=\u001b[0m\u001b[1;34m'passthrough'\u001b[0m\u001b[1;33m)\u001b[0m\u001b[1;33m\u001b[0m\u001b[1;33m\u001b[0m\u001b[0m\n\u001b[1;32m----> 4\u001b[1;33m \u001b[0mX\u001b[0m\u001b[1;33m=\u001b[0m\u001b[0mohe\u001b[0m\u001b[1;33m.\u001b[0m\u001b[0mfit_transform\u001b[0m\u001b[1;33m(\u001b[0m\u001b[0mX\u001b[0m\u001b[1;33m)\u001b[0m\u001b[1;33m.\u001b[0m\u001b[0mtoarray\u001b[0m\u001b[1;33m(\u001b[0m\u001b[1;33m)\u001b[0m\u001b[1;33m\u001b[0m\u001b[1;33m\u001b[0m\u001b[0m\n\u001b[0m",
      "\u001b[1;32m~\\anaconda3\\lib\\site-packages\\sklearn\\compose\\_column_transformer.py\u001b[0m in \u001b[0;36mfit_transform\u001b[1;34m(self, X, y)\u001b[0m\n\u001b[0;32m    496\u001b[0m         \u001b[0mself\u001b[0m\u001b[1;33m.\u001b[0m\u001b[0m_validate_output\u001b[0m\u001b[1;33m(\u001b[0m\u001b[0mXs\u001b[0m\u001b[1;33m)\u001b[0m\u001b[1;33m\u001b[0m\u001b[1;33m\u001b[0m\u001b[0m\n\u001b[0;32m    497\u001b[0m \u001b[1;33m\u001b[0m\u001b[0m\n\u001b[1;32m--> 498\u001b[1;33m         \u001b[1;32mreturn\u001b[0m \u001b[0mself\u001b[0m\u001b[1;33m.\u001b[0m\u001b[0m_hstack\u001b[0m\u001b[1;33m(\u001b[0m\u001b[0mlist\u001b[0m\u001b[1;33m(\u001b[0m\u001b[0mXs\u001b[0m\u001b[1;33m)\u001b[0m\u001b[1;33m)\u001b[0m\u001b[1;33m\u001b[0m\u001b[1;33m\u001b[0m\u001b[0m\n\u001b[0m\u001b[0;32m    499\u001b[0m \u001b[1;33m\u001b[0m\u001b[0m\n\u001b[0;32m    500\u001b[0m     \u001b[1;32mdef\u001b[0m \u001b[0mtransform\u001b[0m\u001b[1;33m(\u001b[0m\u001b[0mself\u001b[0m\u001b[1;33m,\u001b[0m \u001b[0mX\u001b[0m\u001b[1;33m)\u001b[0m\u001b[1;33m:\u001b[0m\u001b[1;33m\u001b[0m\u001b[1;33m\u001b[0m\u001b[0m\n",
      "\u001b[1;32m~\\anaconda3\\lib\\site-packages\\sklearn\\compose\\_column_transformer.py\u001b[0m in \u001b[0;36m_hstack\u001b[1;34m(self, Xs)\u001b[0m\n\u001b[0;32m    566\u001b[0m                                 for X in Xs]\n\u001b[0;32m    567\u001b[0m             \u001b[1;32mexcept\u001b[0m \u001b[0mValueError\u001b[0m\u001b[1;33m:\u001b[0m\u001b[1;33m\u001b[0m\u001b[1;33m\u001b[0m\u001b[0m\n\u001b[1;32m--> 568\u001b[1;33m                 raise ValueError(\"For a sparse output, all columns should\"\n\u001b[0m\u001b[0;32m    569\u001b[0m                                  \" be a numeric or convertible to a numeric.\")\n\u001b[0;32m    570\u001b[0m \u001b[1;33m\u001b[0m\u001b[0m\n",
      "\u001b[1;31mValueError\u001b[0m: For a sparse output, all columns should be a numeric or convertible to a numeric."
     ]
    }
   ],
   "source": [
    "from sklearn.preprocessing import OneHotEncoder\n",
    "from sklearn.compose import ColumnTransformer\n",
    "ohe = ColumnTransformer([('encoder', OneHotEncoder(categorical_features='all',sparse=True), [0])], remainder='passthrough')\n",
    "X=ohe.fit_transform(X).toarray()"
   ]
  },
  {
   "cell_type": "code",
   "execution_count": null,
   "metadata": {},
   "outputs": [],
   "source": []
  }
 ],
 "metadata": {
  "kernelspec": {
   "display_name": "Python 3",
   "language": "python",
   "name": "python3"
  },
  "language_info": {
   "codemirror_mode": {
    "name": "ipython",
    "version": 3
   },
   "file_extension": ".py",
   "mimetype": "text/x-python",
   "name": "python",
   "nbconvert_exporter": "python",
   "pygments_lexer": "ipython3",
   "version": "3.7.6"
  }
 },
 "nbformat": 4,
 "nbformat_minor": 4
}
