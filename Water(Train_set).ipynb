{
 "cells": [
  {
   "cell_type": "code",
   "execution_count": 165,
   "metadata": {},
   "outputs": [
    {
     "data": {
      "text/plain": [
       "'C:\\\\Users\\\\Admin\\\\Desktop\\\\Internship\\\\Data Sets'"
      ]
     },
     "execution_count": 165,
     "metadata": {},
     "output_type": "execute_result"
    }
   ],
   "source": [
    "import os\n",
    "os.chdir(\"C:/Users/Admin/Desktop/Internship/Data Sets\")\n",
    "os.getcwd()"
   ]
  },
  {
   "cell_type": "markdown",
   "metadata": {},
   "source": [
    "# IMPORTING DATA SET"
   ]
  },
  {
   "cell_type": "code",
   "execution_count": 166,
   "metadata": {},
   "outputs": [],
   "source": [
    "import numpy as np\n",
    "import pandas as pd\n",
    "import matplotlib.pyplot as plt\n",
    "data=pd.read_csv('Water.csv',encoding='ISO-8859-1',low_memory=False)"
   ]
  },
  {
   "cell_type": "code",
   "execution_count": 167,
   "metadata": {},
   "outputs": [
    {
     "data": {
      "text/html": [
       "<div>\n",
       "<style scoped>\n",
       "    .dataframe tbody tr th:only-of-type {\n",
       "        vertical-align: middle;\n",
       "    }\n",
       "\n",
       "    .dataframe tbody tr th {\n",
       "        vertical-align: top;\n",
       "    }\n",
       "\n",
       "    .dataframe thead th {\n",
       "        text-align: right;\n",
       "    }\n",
       "</style>\n",
       "<table border=\"1\" class=\"dataframe\">\n",
       "  <thead>\n",
       "    <tr style=\"text-align: right;\">\n",
       "      <th></th>\n",
       "      <th>STATION CODE</th>\n",
       "      <th>LOCATIONS</th>\n",
       "      <th>STATE</th>\n",
       "      <th>Temp</th>\n",
       "      <th>D.O. (mg/l)</th>\n",
       "      <th>CONDUCTIVITY (µmhos/cm)</th>\n",
       "      <th>B.O.D. (mg/l)</th>\n",
       "      <th>NITRATENAN N+ NITRITENANN (mg/l)</th>\n",
       "      <th>FECAL COLIFORM (MPN/100ml)</th>\n",
       "      <th>TOTAL COLIFORM (MPN/100ml)Mean</th>\n",
       "      <th>year</th>\n",
       "      <th>PH</th>\n",
       "    </tr>\n",
       "  </thead>\n",
       "  <tbody>\n",
       "    <tr>\n",
       "      <th>0</th>\n",
       "      <td>1393.0</td>\n",
       "      <td>DAMANGANGA AT D/S OF MADHUBAN, DAMAN</td>\n",
       "      <td>DAMAN &amp; DIU</td>\n",
       "      <td>30.6</td>\n",
       "      <td>6.7</td>\n",
       "      <td>203.0</td>\n",
       "      <td>NaN</td>\n",
       "      <td>0.1</td>\n",
       "      <td>11</td>\n",
       "      <td>27</td>\n",
       "      <td>2014</td>\n",
       "      <td>7.5</td>\n",
       "    </tr>\n",
       "    <tr>\n",
       "      <th>1</th>\n",
       "      <td>1399.0</td>\n",
       "      <td>ZUARI AT D/S OF PT. WHERE KUMBARJRIA CANAL JOI...</td>\n",
       "      <td>GOA</td>\n",
       "      <td>29.8</td>\n",
       "      <td>5.7</td>\n",
       "      <td>189.0</td>\n",
       "      <td>2</td>\n",
       "      <td>0.2</td>\n",
       "      <td>4953</td>\n",
       "      <td>8391</td>\n",
       "      <td>2014</td>\n",
       "      <td>7.2</td>\n",
       "    </tr>\n",
       "    <tr>\n",
       "      <th>2</th>\n",
       "      <td>1475.0</td>\n",
       "      <td>ZUARI AT PANCHAWADI</td>\n",
       "      <td>GOA</td>\n",
       "      <td>29.5</td>\n",
       "      <td>6.3</td>\n",
       "      <td>179.0</td>\n",
       "      <td>1.7</td>\n",
       "      <td>0.1</td>\n",
       "      <td>3243</td>\n",
       "      <td>5330</td>\n",
       "      <td>2014</td>\n",
       "      <td>6.9</td>\n",
       "    </tr>\n",
       "    <tr>\n",
       "      <th>3</th>\n",
       "      <td>3181.0</td>\n",
       "      <td>RIVER ZUARI AT BORIM BRIDGE</td>\n",
       "      <td>GOA</td>\n",
       "      <td>29.7</td>\n",
       "      <td>5.8</td>\n",
       "      <td>64.0</td>\n",
       "      <td>3.8</td>\n",
       "      <td>0.5</td>\n",
       "      <td>5382</td>\n",
       "      <td>8443</td>\n",
       "      <td>2014</td>\n",
       "      <td>6.9</td>\n",
       "    </tr>\n",
       "    <tr>\n",
       "      <th>4</th>\n",
       "      <td>3182.0</td>\n",
       "      <td>RIVER ZUARI AT MARCAIM JETTY</td>\n",
       "      <td>GOA</td>\n",
       "      <td>29.5</td>\n",
       "      <td>5.8</td>\n",
       "      <td>83.0</td>\n",
       "      <td>1.9</td>\n",
       "      <td>0.4</td>\n",
       "      <td>3428</td>\n",
       "      <td>5500</td>\n",
       "      <td>2014</td>\n",
       "      <td>7.3</td>\n",
       "    </tr>\n",
       "    <tr>\n",
       "      <th>...</th>\n",
       "      <td>...</td>\n",
       "      <td>...</td>\n",
       "      <td>...</td>\n",
       "      <td>...</td>\n",
       "      <td>...</td>\n",
       "      <td>...</td>\n",
       "      <td>...</td>\n",
       "      <td>...</td>\n",
       "      <td>...</td>\n",
       "      <td>...</td>\n",
       "      <td>...</td>\n",
       "      <td>...</td>\n",
       "    </tr>\n",
       "    <tr>\n",
       "      <th>1986</th>\n",
       "      <td>1330.0</td>\n",
       "      <td>TAMBIRAPARANI AT ARUMUGANERI, TAMILNADU</td>\n",
       "      <td>NaN</td>\n",
       "      <td>NaN</td>\n",
       "      <td>7.9</td>\n",
       "      <td>7.2</td>\n",
       "      <td>2.7</td>\n",
       "      <td>0.518</td>\n",
       "      <td>0.518</td>\n",
       "      <td>202</td>\n",
       "      <td>2003</td>\n",
       "      <td>738.0</td>\n",
       "    </tr>\n",
       "    <tr>\n",
       "      <th>1987</th>\n",
       "      <td>1450.0</td>\n",
       "      <td>PALAR AT VANIYAMBADI WATER SUPPLY HEAD WORK, T...</td>\n",
       "      <td>NaN</td>\n",
       "      <td>29</td>\n",
       "      <td>7.5</td>\n",
       "      <td>6.3</td>\n",
       "      <td>2.6</td>\n",
       "      <td>0.155</td>\n",
       "      <td>0.155</td>\n",
       "      <td>315</td>\n",
       "      <td>2003</td>\n",
       "      <td>585.0</td>\n",
       "    </tr>\n",
       "    <tr>\n",
       "      <th>1988</th>\n",
       "      <td>1403.0</td>\n",
       "      <td>GUMTI AT U/S SOUTH TRIPURA,TRIPURA</td>\n",
       "      <td>NaN</td>\n",
       "      <td>28</td>\n",
       "      <td>7.6</td>\n",
       "      <td>6.2</td>\n",
       "      <td>1.2</td>\n",
       "      <td>NaN</td>\n",
       "      <td>NaN</td>\n",
       "      <td>570</td>\n",
       "      <td>2003</td>\n",
       "      <td>98.0</td>\n",
       "    </tr>\n",
       "    <tr>\n",
       "      <th>1989</th>\n",
       "      <td>1404.0</td>\n",
       "      <td>GUMTI AT D/S SOUTH TRIPURA, TRIPURA</td>\n",
       "      <td>NaN</td>\n",
       "      <td>28</td>\n",
       "      <td>7.7</td>\n",
       "      <td>6.5</td>\n",
       "      <td>1.3</td>\n",
       "      <td>NaN</td>\n",
       "      <td>NaN</td>\n",
       "      <td>562</td>\n",
       "      <td>2003</td>\n",
       "      <td>91.0</td>\n",
       "    </tr>\n",
       "    <tr>\n",
       "      <th>1990</th>\n",
       "      <td>1726.0</td>\n",
       "      <td>CHANDRAPUR, AGARTALA D/S OF HAORA RIVER, TRIPURA</td>\n",
       "      <td>NaN</td>\n",
       "      <td>29</td>\n",
       "      <td>7.6</td>\n",
       "      <td>5.7</td>\n",
       "      <td>1.1</td>\n",
       "      <td>NaN</td>\n",
       "      <td>NaN</td>\n",
       "      <td>546</td>\n",
       "      <td>2003</td>\n",
       "      <td>110.0</td>\n",
       "    </tr>\n",
       "  </tbody>\n",
       "</table>\n",
       "<p>1991 rows × 12 columns</p>\n",
       "</div>"
      ],
      "text/plain": [
       "      STATION CODE                                          LOCATIONS  \\\n",
       "0           1393.0               DAMANGANGA AT D/S OF MADHUBAN, DAMAN   \n",
       "1           1399.0  ZUARI AT D/S OF PT. WHERE KUMBARJRIA CANAL JOI...   \n",
       "2           1475.0                                ZUARI AT PANCHAWADI   \n",
       "3           3181.0                        RIVER ZUARI AT BORIM BRIDGE   \n",
       "4           3182.0                       RIVER ZUARI AT MARCAIM JETTY   \n",
       "...            ...                                                ...   \n",
       "1986        1330.0            TAMBIRAPARANI AT ARUMUGANERI, TAMILNADU   \n",
       "1987        1450.0  PALAR AT VANIYAMBADI WATER SUPPLY HEAD WORK, T...   \n",
       "1988        1403.0                 GUMTI AT U/S SOUTH TRIPURA,TRIPURA   \n",
       "1989        1404.0                GUMTI AT D/S SOUTH TRIPURA, TRIPURA   \n",
       "1990        1726.0   CHANDRAPUR, AGARTALA D/S OF HAORA RIVER, TRIPURA   \n",
       "\n",
       "            STATE  Temp  D.O. (mg/l)  CONDUCTIVITY (µmhos/cm) B.O.D. (mg/l)  \\\n",
       "0     DAMAN & DIU  30.6          6.7                    203.0           NaN   \n",
       "1             GOA  29.8          5.7                    189.0             2   \n",
       "2             GOA  29.5          6.3                    179.0           1.7   \n",
       "3             GOA  29.7          5.8                     64.0           3.8   \n",
       "4             GOA  29.5          5.8                     83.0           1.9   \n",
       "...           ...   ...          ...                      ...           ...   \n",
       "1986          NaN   NaN          7.9                      7.2           2.7   \n",
       "1987          NaN    29          7.5                      6.3           2.6   \n",
       "1988          NaN    28          7.6                      6.2           1.2   \n",
       "1989          NaN    28          7.7                      6.5           1.3   \n",
       "1990          NaN    29          7.6                      5.7           1.1   \n",
       "\n",
       "     NITRATENAN N+ NITRITENANN (mg/l) FECAL COLIFORM (MPN/100ml)  \\\n",
       "0                                 0.1                         11   \n",
       "1                                 0.2                       4953   \n",
       "2                                 0.1                       3243   \n",
       "3                                 0.5                       5382   \n",
       "4                                 0.4                       3428   \n",
       "...                               ...                        ...   \n",
       "1986                            0.518                      0.518   \n",
       "1987                            0.155                      0.155   \n",
       "1988                              NaN                        NaN   \n",
       "1989                              NaN                        NaN   \n",
       "1990                              NaN                        NaN   \n",
       "\n",
       "     TOTAL COLIFORM (MPN/100ml)Mean  year     PH  \n",
       "0                                27  2014    7.5  \n",
       "1                              8391  2014    7.2  \n",
       "2                              5330  2014    6.9  \n",
       "3                              8443  2014    6.9  \n",
       "4                              5500  2014    7.3  \n",
       "...                             ...   ...    ...  \n",
       "1986                            202  2003  738.0  \n",
       "1987                            315  2003  585.0  \n",
       "1988                            570  2003   98.0  \n",
       "1989                            562  2003   91.0  \n",
       "1990                            546  2003  110.0  \n",
       "\n",
       "[1991 rows x 12 columns]"
      ]
     },
     "execution_count": 167,
     "metadata": {},
     "output_type": "execute_result"
    }
   ],
   "source": [
    "data"
   ]
  },
  {
   "cell_type": "code",
   "execution_count": 168,
   "metadata": {},
   "outputs": [
    {
     "name": "stdout",
     "output_type": "stream",
     "text": [
      "<class 'pandas.core.frame.DataFrame'>\n",
      "RangeIndex: 1991 entries, 0 to 1990\n",
      "Data columns (total 12 columns):\n",
      " #   Column                            Non-Null Count  Dtype  \n",
      "---  ------                            --------------  -----  \n",
      " 0   STATION CODE                      1869 non-null   float64\n",
      " 1   LOCATIONS                         1807 non-null   object \n",
      " 2   STATE                             1230 non-null   object \n",
      " 3   Temp                              1903 non-null   object \n",
      " 4   D.O. (mg/l)                       1960 non-null   float64\n",
      " 5   CONDUCTIVITY (µmhos/cm)           1966 non-null   float64\n",
      " 6   B.O.D. (mg/l)                     1951 non-null   object \n",
      " 7   NITRATENAN N+ NITRITENANN (mg/l)  1771 non-null   object \n",
      " 8   FECAL COLIFORM (MPN/100ml)        1688 non-null   object \n",
      " 9   TOTAL COLIFORM (MPN/100ml)Mean    1870 non-null   object \n",
      " 10  year                              1991 non-null   int64  \n",
      " 11  PH                                1983 non-null   float64\n",
      "dtypes: float64(4), int64(1), object(7)\n",
      "memory usage: 186.8+ KB\n"
     ]
    }
   ],
   "source": [
    "data.info()"
   ]
  },
  {
   "cell_type": "markdown",
   "metadata": {},
   "source": [
    "# Finding And Replacing Missing Values"
   ]
  },
  {
   "cell_type": "code",
   "execution_count": 169,
   "metadata": {},
   "outputs": [
    {
     "data": {
      "text/plain": [
       "STATION CODE                         True\n",
       "LOCATIONS                            True\n",
       "STATE                                True\n",
       "Temp                                 True\n",
       "D.O. (mg/l)                          True\n",
       "CONDUCTIVITY (µmhos/cm)              True\n",
       "B.O.D. (mg/l)                        True\n",
       "NITRATENAN N+ NITRITENANN (mg/l)     True\n",
       "FECAL COLIFORM (MPN/100ml)           True\n",
       "TOTAL COLIFORM (MPN/100ml)Mean       True\n",
       "year                                False\n",
       "PH                                   True\n",
       "dtype: bool"
      ]
     },
     "execution_count": 169,
     "metadata": {},
     "output_type": "execute_result"
    }
   ],
   "source": [
    "data.isnull().any() #No Missing Values"
   ]
  },
  {
   "cell_type": "code",
   "execution_count": 170,
   "metadata": {},
   "outputs": [
    {
     "data": {
      "text/plain": [
       "STATION CODE                        122\n",
       "LOCATIONS                           184\n",
       "STATE                               761\n",
       "Temp                                 88\n",
       "D.O. (mg/l)                          31\n",
       "CONDUCTIVITY (µmhos/cm)              25\n",
       "B.O.D. (mg/l)                        40\n",
       "NITRATENAN N+ NITRITENANN (mg/l)    220\n",
       "FECAL COLIFORM (MPN/100ml)          303\n",
       "TOTAL COLIFORM (MPN/100ml)Mean      121\n",
       "year                                  0\n",
       "PH                                    8\n",
       "dtype: int64"
      ]
     },
     "execution_count": 170,
     "metadata": {},
     "output_type": "execute_result"
    }
   ],
   "source": [
    "#Get a count of missing values in the dataset\n",
    "data.apply(lambda x: sum(x.isnull()),axis=0)"
   ]
  },
  {
   "cell_type": "code",
   "execution_count": 171,
   "metadata": {},
   "outputs": [],
   "source": [
    "data['STATION CODE'].fillna(data['STATION CODE'].mean(),inplace=True)"
   ]
  },
  {
   "cell_type": "code",
   "execution_count": 172,
   "metadata": {},
   "outputs": [],
   "source": [
    "data['PH'].fillna(data['PH'].mean(),inplace=True)"
   ]
  },
  {
   "cell_type": "code",
   "execution_count": 173,
   "metadata": {},
   "outputs": [],
   "source": [
    "data['CONDUCTIVITY (µmhos/cm)'].fillna(data['CONDUCTIVITY (µmhos/cm)'].mean(),inplace=True)"
   ]
  },
  {
   "cell_type": "code",
   "execution_count": 174,
   "metadata": {},
   "outputs": [],
   "source": [
    "data['D.O. (mg/l)'].fillna(data['D.O. (mg/l)'].mean(),inplace=True)"
   ]
  },
  {
   "cell_type": "code",
   "execution_count": 175,
   "metadata": {},
   "outputs": [
    {
     "data": {
      "text/plain": [
       "STATION CODE                          0\n",
       "LOCATIONS                           184\n",
       "STATE                               761\n",
       "Temp                                 88\n",
       "D.O. (mg/l)                           0\n",
       "CONDUCTIVITY (µmhos/cm)               0\n",
       "B.O.D. (mg/l)                        40\n",
       "NITRATENAN N+ NITRITENANN (mg/l)    220\n",
       "FECAL COLIFORM (MPN/100ml)          303\n",
       "TOTAL COLIFORM (MPN/100ml)Mean      121\n",
       "year                                  0\n",
       "PH                                    0\n",
       "dtype: int64"
      ]
     },
     "execution_count": 175,
     "metadata": {},
     "output_type": "execute_result"
    }
   ],
   "source": [
    "data.apply(lambda x: sum(x.isnull()),axis=0)"
   ]
  },
  {
   "cell_type": "code",
   "execution_count": 176,
   "metadata": {},
   "outputs": [
    {
     "data": {
      "text/plain": [
       "0    1.5\n",
       "dtype: object"
      ]
     },
     "execution_count": 176,
     "metadata": {},
     "output_type": "execute_result"
    }
   ],
   "source": [
    "data['B.O.D. (mg/l)'].mode()"
   ]
  },
  {
   "cell_type": "code",
   "execution_count": 177,
   "metadata": {},
   "outputs": [],
   "source": [
    "data['B.O.D. (mg/l)'].fillna('1.5', inplace=True)"
   ]
  },
  {
   "cell_type": "code",
   "execution_count": 178,
   "metadata": {},
   "outputs": [
    {
     "data": {
      "text/plain": [
       "0.1     77\n",
       "0.4     55\n",
       "1       51\n",
       "0.2     50\n",
       "0.3     44\n",
       "        ..\n",
       "1.42     1\n",
       "58.1     1\n",
       "6.7      1\n",
       "7.65     1\n",
       "12       1\n",
       "Name: NITRATENAN N+ NITRITENANN (mg/l), Length: 506, dtype: int64"
      ]
     },
     "execution_count": 178,
     "metadata": {},
     "output_type": "execute_result"
    }
   ],
   "source": [
    "data['NITRATENAN N+ NITRITENANN (mg/l)'].value_counts()"
   ]
  },
  {
   "cell_type": "code",
   "execution_count": 179,
   "metadata": {},
   "outputs": [],
   "source": [
    "data['NITRATENAN N+ NITRITENANN (mg/l)'].fillna('1.42', inplace=True)"
   ]
  },
  {
   "cell_type": "code",
   "execution_count": 180,
   "metadata": {},
   "outputs": [
    {
     "data": {
      "text/plain": [
       "4        46\n",
       "3        29\n",
       "8        19\n",
       "12       18\n",
       "13       17\n",
       "         ..\n",
       "260       1\n",
       "10100     1\n",
       "11498     1\n",
       "855       1\n",
       "0.149     1\n",
       "Name: FECAL COLIFORM (MPN/100ml), Length: 869, dtype: int64"
      ]
     },
     "execution_count": 180,
     "metadata": {},
     "output_type": "execute_result"
    }
   ],
   "source": [
    "data['FECAL COLIFORM (MPN/100ml)'].value_counts()"
   ]
  },
  {
   "cell_type": "code",
   "execution_count": 181,
   "metadata": {},
   "outputs": [],
   "source": [
    "data['FECAL COLIFORM (MPN/100ml)'].fillna('17', inplace=True)"
   ]
  },
  {
   "cell_type": "code",
   "execution_count": 182,
   "metadata": {},
   "outputs": [
    {
     "data": {
      "text/plain": [
       "10       14\n",
       "45       12\n",
       "33       12\n",
       "63       11\n",
       "         11\n",
       "         ..\n",
       "15875     1\n",
       "1536      1\n",
       "1025      1\n",
       "961       1\n",
       "50000     1\n",
       "Name: TOTAL COLIFORM (MPN/100ml)Mean, Length: 1094, dtype: int64"
      ]
     },
     "execution_count": 182,
     "metadata": {},
     "output_type": "execute_result"
    }
   ],
   "source": [
    "data['TOTAL COLIFORM (MPN/100ml)Mean'].value_counts()"
   ]
  },
  {
   "cell_type": "code",
   "execution_count": 183,
   "metadata": {},
   "outputs": [],
   "source": [
    "data['TOTAL COLIFORM (MPN/100ml)Mean'].fillna('60', inplace=True)"
   ]
  },
  {
   "cell_type": "code",
   "execution_count": 184,
   "metadata": {},
   "outputs": [
    {
     "data": {
      "text/plain": [
       "28        241\n",
       "29        163\n",
       "27        161\n",
       "26        102\n",
       "30         79\n",
       "         ... \n",
       "29.4        1\n",
       "29.083      1\n",
       "17.333      1\n",
       "31.25       1\n",
       "21.2        1\n",
       "Name: Temp, Length: 178, dtype: int64"
      ]
     },
     "execution_count": 184,
     "metadata": {},
     "output_type": "execute_result"
    }
   ],
   "source": [
    "data['Temp'].value_counts()"
   ]
  },
  {
   "cell_type": "code",
   "execution_count": 185,
   "metadata": {},
   "outputs": [],
   "source": [
    "data['Temp'].fillna('30',inplace=True)"
   ]
  },
  {
   "cell_type": "code",
   "execution_count": 186,
   "metadata": {},
   "outputs": [
    {
     "data": {
      "text/plain": [
       "STATION CODE                        False\n",
       "LOCATIONS                            True\n",
       "STATE                                True\n",
       "Temp                                False\n",
       "D.O. (mg/l)                         False\n",
       "CONDUCTIVITY (µmhos/cm)             False\n",
       "B.O.D. (mg/l)                       False\n",
       "NITRATENAN N+ NITRITENANN (mg/l)    False\n",
       "FECAL COLIFORM (MPN/100ml)          False\n",
       "TOTAL COLIFORM (MPN/100ml)Mean      False\n",
       "year                                False\n",
       "PH                                  False\n",
       "dtype: bool"
      ]
     },
     "execution_count": 186,
     "metadata": {},
     "output_type": "execute_result"
    }
   ],
   "source": [
    "data.isnull().any()"
   ]
  },
  {
   "cell_type": "code",
   "execution_count": 187,
   "metadata": {},
   "outputs": [],
   "source": [
    "data['LOCATIONS'].fillna('UnKnown',inplace=True)"
   ]
  },
  {
   "cell_type": "code",
   "execution_count": 188,
   "metadata": {},
   "outputs": [],
   "source": [
    "data['STATE'].fillna('UnKnown',inplace=True)"
   ]
  },
  {
   "cell_type": "code",
   "execution_count": 189,
   "metadata": {},
   "outputs": [
    {
     "data": {
      "text/plain": [
       "STATION CODE                        0\n",
       "LOCATIONS                           0\n",
       "STATE                               0\n",
       "Temp                                0\n",
       "D.O. (mg/l)                         0\n",
       "CONDUCTIVITY (µmhos/cm)             0\n",
       "B.O.D. (mg/l)                       0\n",
       "NITRATENAN N+ NITRITENANN (mg/l)    0\n",
       "FECAL COLIFORM (MPN/100ml)          0\n",
       "TOTAL COLIFORM (MPN/100ml)Mean      0\n",
       "year                                0\n",
       "PH                                  0\n",
       "dtype: int64"
      ]
     },
     "execution_count": 189,
     "metadata": {},
     "output_type": "execute_result"
    }
   ],
   "source": [
    "data.isnull().sum()"
   ]
  },
  {
   "cell_type": "code",
   "execution_count": 190,
   "metadata": {},
   "outputs": [
    {
     "data": {
      "text/html": [
       "<div>\n",
       "<style scoped>\n",
       "    .dataframe tbody tr th:only-of-type {\n",
       "        vertical-align: middle;\n",
       "    }\n",
       "\n",
       "    .dataframe tbody tr th {\n",
       "        vertical-align: top;\n",
       "    }\n",
       "\n",
       "    .dataframe thead th {\n",
       "        text-align: right;\n",
       "    }\n",
       "</style>\n",
       "<table border=\"1\" class=\"dataframe\">\n",
       "  <thead>\n",
       "    <tr style=\"text-align: right;\">\n",
       "      <th></th>\n",
       "      <th>STATION CODE</th>\n",
       "      <th>D.O. (mg/l)</th>\n",
       "      <th>CONDUCTIVITY (µmhos/cm)</th>\n",
       "      <th>year</th>\n",
       "      <th>PH</th>\n",
       "    </tr>\n",
       "  </thead>\n",
       "  <tbody>\n",
       "    <tr>\n",
       "      <th>STATION CODE</th>\n",
       "      <td>1.000000</td>\n",
       "      <td>0.010942</td>\n",
       "      <td>0.016017</td>\n",
       "      <td>0.372619</td>\n",
       "      <td>-0.044725</td>\n",
       "    </tr>\n",
       "    <tr>\n",
       "      <th>D.O. (mg/l)</th>\n",
       "      <td>0.010942</td>\n",
       "      <td>1.000000</td>\n",
       "      <td>-0.165684</td>\n",
       "      <td>-0.068800</td>\n",
       "      <td>0.034824</td>\n",
       "    </tr>\n",
       "    <tr>\n",
       "      <th>CONDUCTIVITY (µmhos/cm)</th>\n",
       "      <td>0.016017</td>\n",
       "      <td>-0.165684</td>\n",
       "      <td>1.000000</td>\n",
       "      <td>0.026650</td>\n",
       "      <td>-0.017843</td>\n",
       "    </tr>\n",
       "    <tr>\n",
       "      <th>year</th>\n",
       "      <td>0.372619</td>\n",
       "      <td>-0.068800</td>\n",
       "      <td>0.026650</td>\n",
       "      <td>1.000000</td>\n",
       "      <td>-0.128234</td>\n",
       "    </tr>\n",
       "    <tr>\n",
       "      <th>PH</th>\n",
       "      <td>-0.044725</td>\n",
       "      <td>0.034824</td>\n",
       "      <td>-0.017843</td>\n",
       "      <td>-0.128234</td>\n",
       "      <td>1.000000</td>\n",
       "    </tr>\n",
       "  </tbody>\n",
       "</table>\n",
       "</div>"
      ],
      "text/plain": [
       "                         STATION CODE  D.O. (mg/l)  CONDUCTIVITY (µmhos/cm)  \\\n",
       "STATION CODE                 1.000000     0.010942                 0.016017   \n",
       "D.O. (mg/l)                  0.010942     1.000000                -0.165684   \n",
       "CONDUCTIVITY (µmhos/cm)      0.016017    -0.165684                 1.000000   \n",
       "year                         0.372619    -0.068800                 0.026650   \n",
       "PH                          -0.044725     0.034824                -0.017843   \n",
       "\n",
       "                             year        PH  \n",
       "STATION CODE             0.372619 -0.044725  \n",
       "D.O. (mg/l)             -0.068800  0.034824  \n",
       "CONDUCTIVITY (µmhos/cm)  0.026650 -0.017843  \n",
       "year                     1.000000 -0.128234  \n",
       "PH                      -0.128234  1.000000  "
      ]
     },
     "execution_count": 190,
     "metadata": {},
     "output_type": "execute_result"
    }
   ],
   "source": [
    "data.corr()"
   ]
  },
  {
   "cell_type": "markdown",
   "metadata": {},
   "source": [
    "# Data Visualization"
   ]
  },
  {
   "cell_type": "code",
   "execution_count": 191,
   "metadata": {},
   "outputs": [
    {
     "data": {
      "text/plain": [
       "<matplotlib.axes._subplots.AxesSubplot at 0x1d819c3f888>"
      ]
     },
     "execution_count": 191,
     "metadata": {},
     "output_type": "execute_result"
    },
    {
     "data": {
      "image/png": "[encoded data removed]",
      "text/plain": [
       "<Figure size 432x288 with 1 Axes>"
      ]
     },
     "metadata": {
      "needs_background": "light"
     },
     "output_type": "display_data"
    }
   ],
   "source": [
    "#Data Visualization\n",
    "data.boxplot(column='year')"
   ]
  },
  {
   "cell_type": "code",
   "execution_count": 192,
   "metadata": {},
   "outputs": [
    {
     "data": {
      "text/plain": [
       "array([[<matplotlib.axes._subplots.AxesSubplot object at 0x000001D8185CC448>,\n",
       "        <matplotlib.axes._subplots.AxesSubplot object at 0x000001D8196367C8>,\n",
       "        <matplotlib.axes._subplots.AxesSubplot object at 0x000001D81966B788>,\n",
       "        <matplotlib.axes._subplots.AxesSubplot object at 0x000001D819698F48>,\n",
       "        <matplotlib.axes._subplots.AxesSubplot object at 0x000001D8196D37C8>,\n",
       "        <matplotlib.axes._subplots.AxesSubplot object at 0x000001D81970A048>,\n",
       "        <matplotlib.axes._subplots.AxesSubplot object at 0x000001D81973E888>,\n",
       "        <matplotlib.axes._subplots.AxesSubplot object at 0x000001D819773E88>,\n",
       "        <matplotlib.axes._subplots.AxesSubplot object at 0x000001D819773108>,\n",
       "        <matplotlib.axes._subplots.AxesSubplot object at 0x000001D8197AE8C8>,\n",
       "        <matplotlib.axes._subplots.AxesSubplot object at 0x000001D8198178C8>,\n",
       "        <matplotlib.axes._subplots.AxesSubplot object at 0x000001D8198504C8>,\n",
       "        <matplotlib.axes._subplots.AxesSubplot object at 0x000001D81988A088>],\n",
       "       [<matplotlib.axes._subplots.AxesSubplot object at 0x000001D8198BFC88>,\n",
       "        <matplotlib.axes._subplots.AxesSubplot object at 0x000001D8198F7CC8>,\n",
       "        <matplotlib.axes._subplots.AxesSubplot object at 0x000001D81992FDC8>,\n",
       "        <matplotlib.axes._subplots.AxesSubplot object at 0x000001D819968EC8>,\n",
       "        <matplotlib.axes._subplots.AxesSubplot object at 0x000001D8199A0F48>,\n",
       "        <matplotlib.axes._subplots.AxesSubplot object at 0x000001D8199DE088>,\n",
       "        <matplotlib.axes._subplots.AxesSubplot object at 0x000001D819A17188>,\n",
       "        <matplotlib.axes._subplots.AxesSubplot object at 0x000001D819A4F2C8>,\n",
       "        <matplotlib.axes._subplots.AxesSubplot object at 0x000001D819A873C8>,\n",
       "        <matplotlib.axes._subplots.AxesSubplot object at 0x000001D819ABE488>,\n",
       "        <matplotlib.axes._subplots.AxesSubplot object at 0x000001D819AF75C8>,\n",
       "        <matplotlib.axes._subplots.AxesSubplot object at 0x000001D819B306C8>,\n",
       "        <matplotlib.axes._subplots.AxesSubplot object at 0x000001D819B697C8>],\n",
       "       [<matplotlib.axes._subplots.AxesSubplot object at 0x000001D819BA1908>,\n",
       "        <matplotlib.axes._subplots.AxesSubplot object at 0x000001D819BD9A08>,\n",
       "        <matplotlib.axes._subplots.AxesSubplot object at 0x000001D819C62A88>,\n",
       "        <matplotlib.axes._subplots.AxesSubplot object at 0x000001D819C9BBC8>,\n",
       "        <matplotlib.axes._subplots.AxesSubplot object at 0x000001D819CD3D08>,\n",
       "        <matplotlib.axes._subplots.AxesSubplot object at 0x000001D819D0BE08>,\n",
       "        <matplotlib.axes._subplots.AxesSubplot object at 0x000001D819D44F08>,\n",
       "        <matplotlib.axes._subplots.AxesSubplot object at 0x000001D819D7DFC8>,\n",
       "        <matplotlib.axes._subplots.AxesSubplot object at 0x000001D819DB9108>,\n",
       "        <matplotlib.axes._subplots.AxesSubplot object at 0x000001D819DF1208>,\n",
       "        <matplotlib.axes._subplots.AxesSubplot object at 0x000001D819E2A348>,\n",
       "        <matplotlib.axes._subplots.AxesSubplot object at 0x000001D819E63448>,\n",
       "        <matplotlib.axes._subplots.AxesSubplot object at 0x000001D819E9A508>],\n",
       "       [<matplotlib.axes._subplots.AxesSubplot object at 0x000001D819ED8E48>,\n",
       "        <matplotlib.axes._subplots.AxesSubplot object at 0x000001D819F0B748>,\n",
       "        <matplotlib.axes._subplots.AxesSubplot object at 0x000001D819F46848>,\n",
       "        <matplotlib.axes._subplots.AxesSubplot object at 0x000001D819F7C988>,\n",
       "        <matplotlib.axes._subplots.AxesSubplot object at 0x000001D819FB6A08>,\n",
       "        <matplotlib.axes._subplots.AxesSubplot object at 0x000001D819FEDB08>,\n",
       "        <matplotlib.axes._subplots.AxesSubplot object at 0x000001D81A025C48>,\n",
       "        <matplotlib.axes._subplots.AxesSubplot object at 0x000001D81A05ED48>,\n",
       "        <matplotlib.axes._subplots.AxesSubplot object at 0x000001D81A096E48>,\n",
       "        <matplotlib.axes._subplots.AxesSubplot object at 0x000001D81A0D0F08>,\n",
       "        <matplotlib.axes._subplots.AxesSubplot object at 0x000001D81A10C088>,\n",
       "        <matplotlib.axes._subplots.AxesSubplot object at 0x000001D81A144188>,\n",
       "        <matplotlib.axes._subplots.AxesSubplot object at 0x000001D81A17E288>],\n",
       "       [<matplotlib.axes._subplots.AxesSubplot object at 0x000001D81A1B53C8>,\n",
       "        <matplotlib.axes._subplots.AxesSubplot object at 0x000001D81A1ED4C8>,\n",
       "        <matplotlib.axes._subplots.AxesSubplot object at 0x000001D81A225548>,\n",
       "        <matplotlib.axes._subplots.AxesSubplot object at 0x000001D81A265E88>,\n",
       "        <matplotlib.axes._subplots.AxesSubplot object at 0x000001D81A296788>,\n",
       "        <matplotlib.axes._subplots.AxesSubplot object at 0x000001D81A2D0888>,\n",
       "        <matplotlib.axes._subplots.AxesSubplot object at 0x000001D81A3079C8>,\n",
       "        <matplotlib.axes._subplots.AxesSubplot object at 0x000001D81A340A48>,\n",
       "        <matplotlib.axes._subplots.AxesSubplot object at 0x000001D81A379B48>,\n",
       "        <matplotlib.axes._subplots.AxesSubplot object at 0x000001D81A3B1C88>,\n",
       "        <matplotlib.axes._subplots.AxesSubplot object at 0x000001D81A3E9D88>,\n",
       "        <matplotlib.axes._subplots.AxesSubplot object at 0x000001D81A422E88>,\n",
       "        <matplotlib.axes._subplots.AxesSubplot object at 0x000001D81A45AF48>],\n",
       "       [<matplotlib.axes._subplots.AxesSubplot object at 0x000001D81A4980C8>,\n",
       "        <matplotlib.axes._subplots.AxesSubplot object at 0x000001D81A4CF1C8>,\n",
       "        <matplotlib.axes._subplots.AxesSubplot object at 0x000001D81A5082C8>,\n",
       "        <matplotlib.axes._subplots.AxesSubplot object at 0x000001D81A541408>,\n",
       "        <matplotlib.axes._subplots.AxesSubplot object at 0x000001D81A578488>,\n",
       "        <matplotlib.axes._subplots.AxesSubplot object at 0x000001D81A5B1588>,\n",
       "        <matplotlib.axes._subplots.AxesSubplot object at 0x000001D81A5EA6C8>,\n",
       "        <matplotlib.axes._subplots.AxesSubplot object at 0x000001D81A6227C8>,\n",
       "        <matplotlib.axes._subplots.AxesSubplot object at 0x000001D81A6598C8>,\n",
       "        <matplotlib.axes._subplots.AxesSubplot object at 0x000001D81A692988>,\n",
       "        <matplotlib.axes._subplots.AxesSubplot object at 0x000001D81A6CBA88>,\n",
       "        <matplotlib.axes._subplots.AxesSubplot object at 0x000001D81A704B88>,\n",
       "        <matplotlib.axes._subplots.AxesSubplot object at 0x000001D81A73CCC8>],\n",
       "       [<matplotlib.axes._subplots.AxesSubplot object at 0x000001D81A775DC8>,\n",
       "        <matplotlib.axes._subplots.AxesSubplot object at 0x000001D81A7AEEC8>,\n",
       "        <matplotlib.axes._subplots.AxesSubplot object at 0x000001D81A7E5F88>,\n",
       "        <matplotlib.axes._subplots.AxesSubplot object at 0x000001D81A821108>,\n",
       "        <matplotlib.axes._subplots.AxesSubplot object at 0x000001D81A85A208>,\n",
       "        <matplotlib.axes._subplots.AxesSubplot object at 0x000001D81A893308>,\n",
       "        <matplotlib.axes._subplots.AxesSubplot object at 0x000001D81A8CA448>,\n",
       "        <matplotlib.axes._subplots.AxesSubplot object at 0x000001D81A9034C8>,\n",
       "        <matplotlib.axes._subplots.AxesSubplot object at 0x000001D81A93C5C8>,\n",
       "        <matplotlib.axes._subplots.AxesSubplot object at 0x000001D81A977708>,\n",
       "        <matplotlib.axes._subplots.AxesSubplot object at 0x000001D81A9AF808>,\n",
       "        <matplotlib.axes._subplots.AxesSubplot object at 0x000001D81A9E8908>,\n",
       "        <matplotlib.axes._subplots.AxesSubplot object at 0x000001D81AA1FA08>],\n",
       "       [<matplotlib.axes._subplots.AxesSubplot object at 0x000001D81AA59B08>,\n",
       "        <matplotlib.axes._subplots.AxesSubplot object at 0x000001D81AA91B08>,\n",
       "        <matplotlib.axes._subplots.AxesSubplot object at 0x000001D81AAC9C48>,\n",
       "        <matplotlib.axes._subplots.AxesSubplot object at 0x000001D81AB01D48>,\n",
       "        <matplotlib.axes._subplots.AxesSubplot object at 0x000001D81AB3BE08>,\n",
       "        <matplotlib.axes._subplots.AxesSubplot object at 0x000001D81AB74F48>,\n",
       "        <matplotlib.axes._subplots.AxesSubplot object at 0x000001D81ABB30C8>,\n",
       "        <matplotlib.axes._subplots.AxesSubplot object at 0x000001D81ABEA1C8>,\n",
       "        <matplotlib.axes._subplots.AxesSubplot object at 0x000001D81AC242C8>,\n",
       "        <matplotlib.axes._subplots.AxesSubplot object at 0x000001D81AC5B348>,\n",
       "        <matplotlib.axes._subplots.AxesSubplot object at 0x000001D81AC94448>,\n",
       "        <matplotlib.axes._subplots.AxesSubplot object at 0x000001D81ACCC548>,\n",
       "        <matplotlib.axes._subplots.AxesSubplot object at 0x000001D81AD0CE88>],\n",
       "       [<matplotlib.axes._subplots.AxesSubplot object at 0x000001D81AD3D788>,\n",
       "        <matplotlib.axes._subplots.AxesSubplot object at 0x000001D81AD78848>,\n",
       "        <matplotlib.axes._subplots.AxesSubplot object at 0x000001D81ADB0948>,\n",
       "        <matplotlib.axes._subplots.AxesSubplot object at 0x000001D81ADE9A48>,\n",
       "        <matplotlib.axes._subplots.AxesSubplot object at 0x000001D81AE20B48>,\n",
       "        <matplotlib.axes._subplots.AxesSubplot object at 0x000001D81AE5AC88>,\n",
       "        <matplotlib.axes._subplots.AxesSubplot object at 0x000001D81AE91D88>,\n",
       "        <matplotlib.axes._subplots.AxesSubplot object at 0x000001D81AECBE08>,\n",
       "        <matplotlib.axes._subplots.AxesSubplot object at 0x000001D81AF03F48>,\n",
       "        <matplotlib.axes._subplots.AxesSubplot object at 0x000001D81AF41088>,\n",
       "        <matplotlib.axes._subplots.AxesSubplot object at 0x000001D81AF7B188>,\n",
       "        <matplotlib.axes._subplots.AxesSubplot object at 0x000001D81AFB32C8>,\n",
       "        <matplotlib.axes._subplots.AxesSubplot object at 0x000001D81AFEB348>],\n",
       "       [<matplotlib.axes._subplots.AxesSubplot object at 0x000001D81B025448>,\n",
       "        <matplotlib.axes._subplots.AxesSubplot object at 0x000001D81B05C548>,\n",
       "        <matplotlib.axes._subplots.AxesSubplot object at 0x000001D81B09BE88>,\n",
       "        <matplotlib.axes._subplots.AxesSubplot object at 0x000001D81B0CC788>,\n",
       "        <matplotlib.axes._subplots.AxesSubplot object at 0x000001D81B106848>,\n",
       "        <matplotlib.axes._subplots.AxesSubplot object at 0x000001D81B13D988>,\n",
       "        <matplotlib.axes._subplots.AxesSubplot object at 0x000001D81B178A88>,\n",
       "        <matplotlib.axes._subplots.AxesSubplot object at 0x000001D81B1B0B88>,\n",
       "        <matplotlib.axes._subplots.AxesSubplot object at 0x000001D81B1EACC8>,\n",
       "        <matplotlib.axes._subplots.AxesSubplot object at 0x000001D81B222D48>,\n",
       "        <matplotlib.axes._subplots.AxesSubplot object at 0x000001D81B25CE48>,\n",
       "        <matplotlib.axes._subplots.AxesSubplot object at 0x000001D81B293F88>,\n",
       "        <matplotlib.axes._subplots.AxesSubplot object at 0x000001D81B2D20C8>],\n",
       "       [<matplotlib.axes._subplots.AxesSubplot object at 0x000001D81B3091C8>,\n",
       "        <matplotlib.axes._subplots.AxesSubplot object at 0x000001D81B342288>,\n",
       "        <matplotlib.axes._subplots.AxesSubplot object at 0x000001D81B37A388>,\n",
       "        <matplotlib.axes._subplots.AxesSubplot object at 0x000001D81B3B4488>,\n",
       "        <matplotlib.axes._subplots.AxesSubplot object at 0x000001D81B3EC5C8>,\n",
       "        <matplotlib.axes._subplots.AxesSubplot object at 0x000001D81B4266C8>,\n",
       "        <matplotlib.axes._subplots.AxesSubplot object at 0x000001D81B45C7C8>,\n",
       "        <matplotlib.axes._subplots.AxesSubplot object at 0x000001D81B4968C8>,\n",
       "        <matplotlib.axes._subplots.AxesSubplot object at 0x000001D81B4CEA08>,\n",
       "        <matplotlib.axes._subplots.AxesSubplot object at 0x000001D81B509B08>,\n",
       "        <matplotlib.axes._subplots.AxesSubplot object at 0x000001D81B540C08>,\n",
       "        <matplotlib.axes._subplots.AxesSubplot object at 0x000001D81B57BD48>,\n",
       "        <matplotlib.axes._subplots.AxesSubplot object at 0x000001D81B5B2D88>],\n",
       "       [<matplotlib.axes._subplots.AxesSubplot object at 0x000001D81B5EBE88>,\n",
       "        <matplotlib.axes._subplots.AxesSubplot object at 0x000001D81B623FC8>,\n",
       "        <matplotlib.axes._subplots.AxesSubplot object at 0x000001D81B662108>,\n",
       "        <matplotlib.axes._subplots.AxesSubplot object at 0x000001D81B698208>,\n",
       "        <matplotlib.axes._subplots.AxesSubplot object at 0x000001D81B6D1308>,\n",
       "        <matplotlib.axes._subplots.AxesSubplot object at 0x000001D81B709408>,\n",
       "        <matplotlib.axes._subplots.AxesSubplot object at 0x000001D81B743508>,\n",
       "        <matplotlib.axes._subplots.AxesSubplot object at 0x000001D81B782E48>,\n",
       "        <matplotlib.axes._subplots.AxesSubplot object at 0x000001D81B7B4748>,\n",
       "        <matplotlib.axes._subplots.AxesSubplot object at 0x000001D81B7EC808>,\n",
       "        <matplotlib.axes._subplots.AxesSubplot object at 0x000001D81B827948>,\n",
       "        <matplotlib.axes._subplots.AxesSubplot object at 0x000001D81B85FA48>,\n",
       "        <matplotlib.axes._subplots.AxesSubplot object at 0x000001D81B899B48>],\n",
       "       [<matplotlib.axes._subplots.AxesSubplot object at 0x000001D81B8D0C88>,\n",
       "        <matplotlib.axes._subplots.AxesSubplot object at 0x000001D81B908D08>,\n",
       "        <matplotlib.axes._subplots.AxesSubplot object at 0x000001D81B93FE08>,\n",
       "        <matplotlib.axes._subplots.AxesSubplot object at 0x000001D81B978F08>,\n",
       "        <matplotlib.axes._subplots.AxesSubplot object at 0x000001D81B9B8088>,\n",
       "        <matplotlib.axes._subplots.AxesSubplot object at 0x000001D81B9F1188>,\n",
       "        <matplotlib.axes._subplots.AxesSubplot object at 0x000001D81BA27248>,\n",
       "        <matplotlib.axes._subplots.AxesSubplot object at 0x000001D81BA62388>,\n",
       "        <matplotlib.axes._subplots.AxesSubplot object at 0x000001D81BA99488>,\n",
       "        <matplotlib.axes._subplots.AxesSubplot object at 0x000001D81BAD35C8>,\n",
       "        <matplotlib.axes._subplots.AxesSubplot object at 0x000001D81BB0A708>,\n",
       "        <matplotlib.axes._subplots.AxesSubplot object at 0x000001D81BB44888>,\n",
       "        <matplotlib.axes._subplots.AxesSubplot object at 0x000001D81BB7C948>],\n",
       "       [<matplotlib.axes._subplots.AxesSubplot object at 0x000001D81BBB5A88>,\n",
       "        <matplotlib.axes._subplots.AxesSubplot object at 0x000001D81BBEBC08>,\n",
       "        <matplotlib.axes._subplots.AxesSubplot object at 0x000001D81BC25D48>,\n",
       "        <matplotlib.axes._subplots.AxesSubplot object at 0x000001D81BC5CE88>,\n",
       "        <matplotlib.axes._subplots.AxesSubplot object at 0x000001D81BC94F88>,\n",
       "        <matplotlib.axes._subplots.AxesSubplot object at 0x000001D81BCD5108>,\n",
       "        <matplotlib.axes._subplots.AxesSubplot object at 0x000001D81BD0E248>,\n",
       "        <matplotlib.axes._subplots.AxesSubplot object at 0x000001D81BD453C8>,\n",
       "        <matplotlib.axes._subplots.AxesSubplot object at 0x000001D81BD7F508>,\n",
       "        <matplotlib.axes._subplots.AxesSubplot object at 0x000001D81BDB7648>,\n",
       "        <matplotlib.axes._subplots.AxesSubplot object at 0x000001D81BDF1788>,\n",
       "        <matplotlib.axes._subplots.AxesSubplot object at 0x000001D81BE2FE48>,\n",
       "        <matplotlib.axes._subplots.AxesSubplot object at 0x000001D81BE60B88>]],\n",
       "      dtype=object)"
      ]
     },
     "execution_count": 192,
     "metadata": {},
     "output_type": "execute_result"
    },
    {
     "data": {
      "image/png": "[encoded data removed]",
      "text/plain": [
       "<Figure size 432x288 with 182 Axes>"
      ]
     },
     "metadata": {
      "needs_background": "light"
     },
     "output_type": "display_data"
    }
   ],
   "source": [
    "data.hist(column=\"PH\",by=\"Temp\",bins=10)"
   ]
  },
  {
   "cell_type": "code",
   "execution_count": 193,
   "metadata": {},
   "outputs": [
    {
     "data": {
      "text/plain": [
       "<matplotlib.axes._subplots.AxesSubplot at 0x1d8195f2808>"
      ]
     },
     "execution_count": 193,
     "metadata": {},
     "output_type": "execute_result"
    },
    {
     "data": {
      "image/png": "[encoded data removed]",
      "text/plain": [
       "<Figure size 432x288 with 1 Axes>"
      ]
     },
     "metadata": {
      "needs_background": "light"
     },
     "output_type": "display_data"
    }
   ],
   "source": [
    "data.boxplot(column='PH',by='Temp')"
   ]
  },
  {
   "cell_type": "markdown",
   "metadata": {},
   "source": [
    "# Label Encoding"
   ]
  },
  {
   "cell_type": "code",
   "execution_count": 194,
   "metadata": {},
   "outputs": [],
   "source": [
    "from sklearn.preprocessing import LabelEncoder\n",
    "lb=LabelEncoder()\n",
    "data['LOCATIONS']=lb.fit_transform(data['LOCATIONS'])"
   ]
  },
  {
   "cell_type": "code",
   "execution_count": 195,
   "metadata": {},
   "outputs": [],
   "source": [
    "data['STATE']=lb.fit_transform(data['STATE'])"
   ]
  },
  {
   "cell_type": "code",
   "execution_count": 196,
   "metadata": {},
   "outputs": [],
   "source": [
    "data['Temp'] = pd.to_numeric(data['Temp'],errors='coerce')"
   ]
  },
  {
   "cell_type": "code",
   "execution_count": 197,
   "metadata": {},
   "outputs": [
    {
     "data": {
      "text/plain": [
       "STATION CODE                        float64\n",
       "LOCATIONS                             int32\n",
       "STATE                                 int32\n",
       "Temp                                float64\n",
       "D.O. (mg/l)                         float64\n",
       "CONDUCTIVITY (µmhos/cm)             float64\n",
       "B.O.D. (mg/l)                        object\n",
       "NITRATENAN N+ NITRITENANN (mg/l)     object\n",
       "FECAL COLIFORM (MPN/100ml)           object\n",
       "TOTAL COLIFORM (MPN/100ml)Mean       object\n",
       "year                                  int64\n",
       "PH                                  float64\n",
       "dtype: object"
      ]
     },
     "execution_count": 197,
     "metadata": {},
     "output_type": "execute_result"
    }
   ],
   "source": [
    "data.dtypes"
   ]
  },
  {
   "cell_type": "code",
   "execution_count": 198,
   "metadata": {},
   "outputs": [],
   "source": [
    "data['B.O.D. (mg/l)'] = pd.to_numeric(data['B.O.D. (mg/l)'],errors='coerce')"
   ]
  },
  {
   "cell_type": "code",
   "execution_count": 199,
   "metadata": {},
   "outputs": [],
   "source": [
    "data['NITRATENAN N+ NITRITENANN (mg/l)'] = pd.to_numeric(data['NITRATENAN N+ NITRITENANN (mg/l)'],errors='coerce')"
   ]
  },
  {
   "cell_type": "code",
   "execution_count": 200,
   "metadata": {},
   "outputs": [],
   "source": [
    "data['FECAL COLIFORM (MPN/100ml)'] = pd.to_numeric(data['FECAL COLIFORM (MPN/100ml)'],errors='coerce')"
   ]
  },
  {
   "cell_type": "code",
   "execution_count": 201,
   "metadata": {},
   "outputs": [],
   "source": [
    "data['TOTAL COLIFORM (MPN/100ml)Mean'] = pd.to_numeric(data['TOTAL COLIFORM (MPN/100ml)Mean'],errors='coerce')"
   ]
  },
  {
   "cell_type": "code",
   "execution_count": 202,
   "metadata": {},
   "outputs": [
    {
     "data": {
      "text/html": [
       "<div>\n",
       "<style scoped>\n",
       "    .dataframe tbody tr th:only-of-type {\n",
       "        vertical-align: middle;\n",
       "    }\n",
       "\n",
       "    .dataframe tbody tr th {\n",
       "        vertical-align: top;\n",
       "    }\n",
       "\n",
       "    .dataframe thead th {\n",
       "        text-align: right;\n",
       "    }\n",
       "</style>\n",
       "<table border=\"1\" class=\"dataframe\">\n",
       "  <thead>\n",
       "    <tr style=\"text-align: right;\">\n",
       "      <th></th>\n",
       "      <th>STATION CODE</th>\n",
       "      <th>LOCATIONS</th>\n",
       "      <th>STATE</th>\n",
       "      <th>Temp</th>\n",
       "      <th>D.O. (mg/l)</th>\n",
       "      <th>CONDUCTIVITY (µmhos/cm)</th>\n",
       "      <th>B.O.D. (mg/l)</th>\n",
       "      <th>NITRATENAN N+ NITRITENANN (mg/l)</th>\n",
       "      <th>FECAL COLIFORM (MPN/100ml)</th>\n",
       "      <th>TOTAL COLIFORM (MPN/100ml)Mean</th>\n",
       "      <th>year</th>\n",
       "      <th>PH</th>\n",
       "    </tr>\n",
       "  </thead>\n",
       "  <tbody>\n",
       "    <tr>\n",
       "      <th>0</th>\n",
       "      <td>1393.0</td>\n",
       "      <td>83</td>\n",
       "      <td>21</td>\n",
       "      <td>30.6</td>\n",
       "      <td>6.7</td>\n",
       "      <td>203.0</td>\n",
       "      <td>1.5</td>\n",
       "      <td>0.100</td>\n",
       "      <td>11.000</td>\n",
       "      <td>27.0</td>\n",
       "      <td>2014</td>\n",
       "      <td>7.5</td>\n",
       "    </tr>\n",
       "    <tr>\n",
       "      <th>1</th>\n",
       "      <td>1399.0</td>\n",
       "      <td>664</td>\n",
       "      <td>51</td>\n",
       "      <td>29.8</td>\n",
       "      <td>5.7</td>\n",
       "      <td>189.0</td>\n",
       "      <td>2.0</td>\n",
       "      <td>0.200</td>\n",
       "      <td>4953.000</td>\n",
       "      <td>8391.0</td>\n",
       "      <td>2014</td>\n",
       "      <td>7.2</td>\n",
       "    </tr>\n",
       "    <tr>\n",
       "      <th>2</th>\n",
       "      <td>1475.0</td>\n",
       "      <td>665</td>\n",
       "      <td>51</td>\n",
       "      <td>29.5</td>\n",
       "      <td>6.3</td>\n",
       "      <td>179.0</td>\n",
       "      <td>1.7</td>\n",
       "      <td>0.100</td>\n",
       "      <td>3243.000</td>\n",
       "      <td>5330.0</td>\n",
       "      <td>2014</td>\n",
       "      <td>6.9</td>\n",
       "    </tr>\n",
       "    <tr>\n",
       "      <th>3</th>\n",
       "      <td>3181.0</td>\n",
       "      <td>494</td>\n",
       "      <td>51</td>\n",
       "      <td>29.7</td>\n",
       "      <td>5.8</td>\n",
       "      <td>64.0</td>\n",
       "      <td>3.8</td>\n",
       "      <td>0.500</td>\n",
       "      <td>5382.000</td>\n",
       "      <td>8443.0</td>\n",
       "      <td>2014</td>\n",
       "      <td>6.9</td>\n",
       "    </tr>\n",
       "    <tr>\n",
       "      <th>4</th>\n",
       "      <td>3182.0</td>\n",
       "      <td>495</td>\n",
       "      <td>51</td>\n",
       "      <td>29.5</td>\n",
       "      <td>5.8</td>\n",
       "      <td>83.0</td>\n",
       "      <td>1.9</td>\n",
       "      <td>0.400</td>\n",
       "      <td>3428.000</td>\n",
       "      <td>5500.0</td>\n",
       "      <td>2014</td>\n",
       "      <td>7.3</td>\n",
       "    </tr>\n",
       "    <tr>\n",
       "      <th>...</th>\n",
       "      <td>...</td>\n",
       "      <td>...</td>\n",
       "      <td>...</td>\n",
       "      <td>...</td>\n",
       "      <td>...</td>\n",
       "      <td>...</td>\n",
       "      <td>...</td>\n",
       "      <td>...</td>\n",
       "      <td>...</td>\n",
       "      <td>...</td>\n",
       "      <td>...</td>\n",
       "      <td>...</td>\n",
       "    </tr>\n",
       "    <tr>\n",
       "      <th>1986</th>\n",
       "      <td>1330.0</td>\n",
       "      <td>536</td>\n",
       "      <td>195</td>\n",
       "      <td>30.0</td>\n",
       "      <td>7.9</td>\n",
       "      <td>7.2</td>\n",
       "      <td>2.7</td>\n",
       "      <td>0.518</td>\n",
       "      <td>0.518</td>\n",
       "      <td>202.0</td>\n",
       "      <td>2003</td>\n",
       "      <td>738.0</td>\n",
       "    </tr>\n",
       "    <tr>\n",
       "      <th>1987</th>\n",
       "      <td>1450.0</td>\n",
       "      <td>344</td>\n",
       "      <td>195</td>\n",
       "      <td>29.0</td>\n",
       "      <td>7.5</td>\n",
       "      <td>6.3</td>\n",
       "      <td>2.6</td>\n",
       "      <td>0.155</td>\n",
       "      <td>0.155</td>\n",
       "      <td>315.0</td>\n",
       "      <td>2003</td>\n",
       "      <td>585.0</td>\n",
       "    </tr>\n",
       "    <tr>\n",
       "      <th>1988</th>\n",
       "      <td>1403.0</td>\n",
       "      <td>154</td>\n",
       "      <td>195</td>\n",
       "      <td>28.0</td>\n",
       "      <td>7.6</td>\n",
       "      <td>6.2</td>\n",
       "      <td>1.2</td>\n",
       "      <td>1.420</td>\n",
       "      <td>17.000</td>\n",
       "      <td>570.0</td>\n",
       "      <td>2003</td>\n",
       "      <td>98.0</td>\n",
       "    </tr>\n",
       "    <tr>\n",
       "      <th>1989</th>\n",
       "      <td>1404.0</td>\n",
       "      <td>151</td>\n",
       "      <td>195</td>\n",
       "      <td>28.0</td>\n",
       "      <td>7.7</td>\n",
       "      <td>6.5</td>\n",
       "      <td>1.3</td>\n",
       "      <td>1.420</td>\n",
       "      <td>17.000</td>\n",
       "      <td>562.0</td>\n",
       "      <td>2003</td>\n",
       "      <td>91.0</td>\n",
       "    </tr>\n",
       "    <tr>\n",
       "      <th>1990</th>\n",
       "      <td>1726.0</td>\n",
       "      <td>67</td>\n",
       "      <td>195</td>\n",
       "      <td>29.0</td>\n",
       "      <td>7.6</td>\n",
       "      <td>5.7</td>\n",
       "      <td>1.1</td>\n",
       "      <td>1.420</td>\n",
       "      <td>17.000</td>\n",
       "      <td>546.0</td>\n",
       "      <td>2003</td>\n",
       "      <td>110.0</td>\n",
       "    </tr>\n",
       "  </tbody>\n",
       "</table>\n",
       "<p>1991 rows × 12 columns</p>\n",
       "</div>"
      ],
      "text/plain": [
       "      STATION CODE  LOCATIONS  STATE  Temp  D.O. (mg/l)  \\\n",
       "0           1393.0         83     21  30.6          6.7   \n",
       "1           1399.0        664     51  29.8          5.7   \n",
       "2           1475.0        665     51  29.5          6.3   \n",
       "3           3181.0        494     51  29.7          5.8   \n",
       "4           3182.0        495     51  29.5          5.8   \n",
       "...            ...        ...    ...   ...          ...   \n",
       "1986        1330.0        536    195  30.0          7.9   \n",
       "1987        1450.0        344    195  29.0          7.5   \n",
       "1988        1403.0        154    195  28.0          7.6   \n",
       "1989        1404.0        151    195  28.0          7.7   \n",
       "1990        1726.0         67    195  29.0          7.6   \n",
       "\n",
       "      CONDUCTIVITY (µmhos/cm)  B.O.D. (mg/l)  \\\n",
       "0                       203.0            1.5   \n",
       "1                       189.0            2.0   \n",
       "2                       179.0            1.7   \n",
       "3                        64.0            3.8   \n",
       "4                        83.0            1.9   \n",
       "...                       ...            ...   \n",
       "1986                      7.2            2.7   \n",
       "1987                      6.3            2.6   \n",
       "1988                      6.2            1.2   \n",
       "1989                      6.5            1.3   \n",
       "1990                      5.7            1.1   \n",
       "\n",
       "      NITRATENAN N+ NITRITENANN (mg/l)  FECAL COLIFORM (MPN/100ml)  \\\n",
       "0                                0.100                      11.000   \n",
       "1                                0.200                    4953.000   \n",
       "2                                0.100                    3243.000   \n",
       "3                                0.500                    5382.000   \n",
       "4                                0.400                    3428.000   \n",
       "...                                ...                         ...   \n",
       "1986                             0.518                       0.518   \n",
       "1987                             0.155                       0.155   \n",
       "1988                             1.420                      17.000   \n",
       "1989                             1.420                      17.000   \n",
       "1990                             1.420                      17.000   \n",
       "\n",
       "      TOTAL COLIFORM (MPN/100ml)Mean  year     PH  \n",
       "0                               27.0  2014    7.5  \n",
       "1                             8391.0  2014    7.2  \n",
       "2                             5330.0  2014    6.9  \n",
       "3                             8443.0  2014    6.9  \n",
       "4                             5500.0  2014    7.3  \n",
       "...                              ...   ...    ...  \n",
       "1986                           202.0  2003  738.0  \n",
       "1987                           315.0  2003  585.0  \n",
       "1988                           570.0  2003   98.0  \n",
       "1989                           562.0  2003   91.0  \n",
       "1990                           546.0  2003  110.0  \n",
       "\n",
       "[1991 rows x 12 columns]"
      ]
     },
     "execution_count": 202,
     "metadata": {},
     "output_type": "execute_result"
    }
   ],
   "source": [
    "data"
   ]
  },
  {
   "cell_type": "code",
   "execution_count": 203,
   "metadata": {},
   "outputs": [],
   "source": [
    "X=data.iloc[:,1:11].values\n",
    "Y=data.iloc[:,-1].values"
   ]
  },
  {
   "cell_type": "code",
   "execution_count": 204,
   "metadata": {
    "scrolled": true
   },
   "outputs": [
    {
     "data": {
      "text/plain": [
       "array([[  83. ,   21. ,   30.6, ...,   11. ,   27. , 2014. ],\n",
       "       [ 664. ,   51. ,   29.8, ..., 4953. , 8391. , 2014. ],\n",
       "       [ 665. ,   51. ,   29.5, ..., 3243. , 5330. , 2014. ],\n",
       "       ...,\n",
       "       [ 154. ,  195. ,   28. , ...,   17. ,  570. , 2003. ],\n",
       "       [ 151. ,  195. ,   28. , ...,   17. ,  562. , 2003. ],\n",
       "       [  67. ,  195. ,   29. , ...,   17. ,  546. , 2003. ]])"
      ]
     },
     "execution_count": 204,
     "metadata": {},
     "output_type": "execute_result"
    }
   ],
   "source": [
    "X"
   ]
  },
  {
   "cell_type": "code",
   "execution_count": 205,
   "metadata": {},
   "outputs": [
    {
     "data": {
      "text/plain": [
       "array([  7.5,   7.2,   6.9, ...,  98. ,  91. , 110. ])"
      ]
     },
     "execution_count": 205,
     "metadata": {},
     "output_type": "execute_result"
    }
   ],
   "source": [
    "Y"
   ]
  },
  {
   "cell_type": "markdown",
   "metadata": {},
   "source": [
    "# Split Data Set to Train and Test"
   ]
  },
  {
   "cell_type": "code",
   "execution_count": 210,
   "metadata": {},
   "outputs": [],
   "source": [
    "from sklearn.model_selection import train_test_split\n",
    "x_train,x_test,y_train,y_test=train_test_split(X,Y,test_size=0.2,random_state=0)"
   ]
  },
  {
   "cell_type": "markdown",
   "metadata": {},
   "source": [
    "# Feature Scaling"
   ]
  },
  {
   "cell_type": "code",
   "execution_count": 211,
   "metadata": {},
   "outputs": [],
   "source": [
    "from sklearn.preprocessing import StandardScaler\n",
    "sc= StandardScaler()\n",
    "\n",
    "x_train =sc.fit_transform(x_train)\n",
    "x_test = sc.transform(x_test)"
   ]
  }
 ],
 "metadata": {
  "kernelspec": {
   "display_name": "Python 3",
   "language": "python",
   "name": "python3"
  },
  "language_info": {
   "codemirror_mode": {
    "name": "ipython",
    "version": 3
   },
   "file_extension": ".py",
   "mimetype": "text/x-python",
   "name": "python",
   "nbconvert_exporter": "python",
   "pygments_lexer": "ipython3",
   "version": "3.7.6"
  }
 },
 "nbformat": 4,
 "nbformat_minor": 4
}
